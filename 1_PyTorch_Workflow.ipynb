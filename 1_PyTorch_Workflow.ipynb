{
  "nbformat": 4,
  "nbformat_minor": 0,
  "metadata": {
    "colab": {
      "provenance": [],
      "gpuType": "T4"
    },
    "kernelspec": {
      "name": "python3",
      "display_name": "Python 3"
    },
    "language_info": {
      "name": "python"
    },
    "accelerator": "GPU"
  },
  "cells": [
    {
      "cell_type": "code",
      "execution_count": null,
      "metadata": {
        "id": "23PdYjtcLjxS"
      },
      "outputs": [],
      "source": [
        "contents = {1:'data (prepare and load)',\n",
        "            2: 'build model',\n",
        "            3: 'fitting model to data (training)',\n",
        "            4: 'making predictions and model eval (inference)',\n",
        "            5: 'saving and loading model',\n",
        "            6: 'putting it all together'\n",
        "            }"
      ]
    },
    {
      "cell_type": "code",
      "source": [
        "import torch\n",
        "from torch import nn\n",
        "import matplotlib.pyplot as plt\n",
        "\n",
        "torch.__version"
      ],
      "metadata": {
        "colab": {
          "base_uri": "https://localhost:8080/",
          "height": 35
        },
        "id": "eeXQw5ccMZeP",
        "outputId": "d3b304b8-edeb-453b-8b7c-8e316b8d170f"
      },
      "execution_count": null,
      "outputs": [
        {
          "output_type": "execute_result",
          "data": {
            "text/plain": [
              "'2.1.0+cu118'"
            ],
            "application/vnd.google.colaboratory.intrinsic+json": {
              "type": "string"
            }
          },
          "metadata": {},
          "execution_count": 2
        }
      ]
    },
    {
      "cell_type": "code",
      "source": [
        "#known params\n",
        "weight = 0.7\n",
        "bias = 0.3\n",
        "\n",
        "#data\n",
        "start = 0\n",
        "end = 1\n",
        "step = 0.02\n",
        "X = torch.arange(start, end, step).unsqueeze(dim = 1)\n",
        "y = weight*X + bias\n",
        "\n",
        "X[:10], y[:10]"
      ],
      "metadata": {
        "colab": {
          "base_uri": "https://localhost:8080/"
        },
        "id": "7kL_RyvJMi1m",
        "outputId": "bfffe429-b2e9-4a53-e115-d18afb4ca3a5"
      },
      "execution_count": null,
      "outputs": [
        {
          "output_type": "execute_result",
          "data": {
            "text/plain": [
              "(tensor([[0.0000],\n",
              "         [0.0200],\n",
              "         [0.0400],\n",
              "         [0.0600],\n",
              "         [0.0800],\n",
              "         [0.1000],\n",
              "         [0.1200],\n",
              "         [0.1400],\n",
              "         [0.1600],\n",
              "         [0.1800]]),\n",
              " tensor([[0.3000],\n",
              "         [0.3140],\n",
              "         [0.3280],\n",
              "         [0.3420],\n",
              "         [0.3560],\n",
              "         [0.3700],\n",
              "         [0.3840],\n",
              "         [0.3980],\n",
              "         [0.4120],\n",
              "         [0.4260]]))"
            ]
          },
          "metadata": {},
          "execution_count": 6
        }
      ]
    },
    {
      "cell_type": "code",
      "source": [
        "#split data\n",
        "train_split = int(0.8*len(X)) #80 percent training\n",
        "X_train, y_train = X[:train_split], y[:train_split]\n",
        "X_test, y_test = X[train_split:], y[train_split:]\n",
        "\n",
        "len(X_train), len(y_train), len(X_test), len(y_test)"
      ],
      "metadata": {
        "colab": {
          "base_uri": "https://localhost:8080/"
        },
        "id": "kwZ25EklNBQT",
        "outputId": "9b1d8b67-add2-4e8e-a5c6-00d664c23cd3"
      },
      "execution_count": null,
      "outputs": [
        {
          "output_type": "execute_result",
          "data": {
            "text/plain": [
              "(40, 40, 10, 10)"
            ]
          },
          "metadata": {},
          "execution_count": 8
        }
      ]
    },
    {
      "cell_type": "code",
      "source": [
        "#visualize\n",
        "def plot_predictions(train_data = X_train,\n",
        "                     train_labels = y_train,\n",
        "                     test_data = X_test,\n",
        "                     test_labels = y_test,\n",
        "                     predictions = None):\n",
        "\n",
        "#plots training data, test data and compares predictions\n",
        "\n",
        "  plt.figure(figsize = (10,7))\n",
        "\n",
        "  #training in blue, testing in green\n",
        "  plt.scatter(train_data, train_labels, c = 'b', s = 4, label = 'Training Data')\n",
        "  plt.scatter(test_data, test_labels, c= 'g', s = 4, label = 'Testing Data')\n",
        "\n",
        "  if predictions is not None:\n",
        "    #plot predictions in red\n",
        "    plt.scatter(test_data, predictions, c= 'r', s =4, label = 'Predictions')\n",
        "\n",
        "  #legend\n",
        "  plt.legend(prop= {'size':14});"
      ],
      "metadata": {
        "id": "MxFALQRbNtUp"
      },
      "execution_count": null,
      "outputs": []
    },
    {
      "cell_type": "code",
      "source": [
        "plot_predictions();"
      ],
      "metadata": {
        "colab": {
          "base_uri": "https://localhost:8080/",
          "height": 574
        },
        "id": "IqnE2ueUO0KW",
        "outputId": "6c68d4bb-4d3a-4dde-861b-1276a64f9815"
      },
      "execution_count": null,
      "outputs": [
        {
          "output_type": "display_data",
          "data": {
            "text/plain": [
              "<Figure size 1000x700 with 1 Axes>"
            ],
            "image/png": "[encoded data removed]"
          },
          "metadata": {}
        }
      ]
    },
    {
      "cell_type": "code",
      "source": [
        "#lin reg model\n",
        "class LinearRegressionModel(nn.Module):   #nn.Module are the building blocks\n",
        "  def __init__(self):\n",
        "    super().__init__()\n",
        "    self.weights = nn.Parameter(torch.randn(1,      #rand weights to start\n",
        "                                            dtype = torch.float),    #pytorch wants float32\n",
        "                                requires_grad = True)   #can update with grad desc\n",
        "\n",
        "    self.bias = nn.Parameter(torch.randn(1,\n",
        "                                         dtype = torch.float),\n",
        "                             requires_grad = True)\n",
        "  def forward(self, x: torch.Tensor) -> torch.Tensor:  #x is input data\n",
        "      return self.weights*x + self.bias                 #lin reg formula\n"
      ],
      "metadata": {
        "id": "uHjh0oRMPU5N"
      },
      "execution_count": null,
      "outputs": []
    },
    {
      "cell_type": "code",
      "source": [
        "\"\"\"\n",
        "torch.nn\n",
        "Contains all of the building blocks for computational graphs\n",
        "(essentially a series of computations executed in a particular way).\n",
        "\n",
        "torch.nn.Parameter\n",
        "Stores tensors that can be used with nn.Module. If requires_grad=True gradients\n",
        "(used for updating model parameters via gradient descent)\n",
        "are calculated automatically, this is often referred to as \"autograd\".\n",
        "\n",
        "torch.nn.Module\n",
        "The base class for all neural network modules, all the building blocks for\n",
        "neural networks are subclasses. If you're building a neural network in PyTorch, your\n",
        "models should subclass nn.Module. Requires a forward() method be implemented.\n",
        "\n",
        "torch.optim\n",
        "Contains various optimization algorithms (these tell the model parameters stored in\n",
        "nn.Parameter how to best change to improve gradient descent and in turn reduce the loss).\n",
        "\n",
        "def forward()\n",
        "All nn.Module subclasses require a forward() method, this defines the computation\n",
        "that will take place on the data passed to the particular nn.Module\n",
        "(e.g. the linear regression formula above).\n",
        "\"\"\""
      ],
      "metadata": {
        "colab": {
          "base_uri": "https://localhost:8080/",
          "height": 191
        },
        "id": "zelJceSbQoa4",
        "outputId": "88b543ce-5567-41ad-db96-1d196a3ad9da"
      },
      "execution_count": null,
      "outputs": [
        {
          "output_type": "execute_result",
          "data": {
            "text/plain": [
              "'\\ntorch.nn\\t\\nContains all of the building blocks for computational graphs \\n(essentially a series of computations executed in a particular way).\\n\\ntorch.nn.Parameter\\t\\nStores tensors that can be used with nn.Module. If requires_grad=True gradients \\n(used for updating model parameters via gradient descent) \\nare calculated automatically, this is often referred to as \"autograd\".\\n\\ntorch.nn.Module\\t\\nThe base class for all neural network modules, all the building blocks for\\nneural networks are subclasses. If you\\'re building a neural network in PyTorch, your\\nmodels should subclass nn.Module. Requires a forward() method be implemented.\\n\\ntorch.optim\\t\\nContains various optimization algorithms (these tell the model parameters stored in \\nnn.Parameter how to best change to improve gradient descent and in turn reduce the loss).\\n\\ndef forward()\\t\\nAll nn.Module subclasses require a forward() method, this defines the computation\\nthat will take place on the data passed to the particular nn.Module \\n(e.g. the linear regression formula above).\\n'"
            ],
            "application/vnd.google.colaboratory.intrinsic+json": {
              "type": "string"
            }
          },
          "metadata": {},
          "execution_count": 18
        }
      ]
    },
    {
      "cell_type": "code",
      "source": [
        "#simplified\n",
        "\"\"\"\n",
        "almost everything in a PyTorch neural network comes from torch.nn,\n",
        "\n",
        "nn.Module contains the larger building blocks (layers)\n",
        "nn.Parameter contains the smaller parameters like weights and biases\n",
        "  (put these together to make nn.Module(s))\n",
        "forward() tells the larger blocks how to make calculations on inputs\n",
        "  (tensors full of data) within nn.Module(s)\n",
        "torch.optim contains optimization methods on how to improve the parameters within\n",
        "  nn.Parameter to better represent input data\n",
        "\"\"\""
      ],
      "metadata": {
        "colab": {
          "base_uri": "https://localhost:8080/",
          "height": 105
        },
        "id": "Victf0SPRJ9g",
        "outputId": "8418c802-9590-4a9a-ed88-9925515b0a8f"
      },
      "execution_count": null,
      "outputs": [
        {
          "output_type": "execute_result",
          "data": {
            "text/plain": [
              "'\\nalmost everything in a PyTorch neural network comes from torch.nn,\\n\\nnn.Module contains the larger building blocks (layers)\\nnn.Parameter contains the smaller parameters like weights and biases \\n  (put these together to make nn.Module(s))\\nforward() tells the larger blocks how to make calculations on inputs \\n  (tensors full of data) within nn.Module(s)\\ntorch.optim contains optimization methods on how to improve the parameters within\\n  nn.Parameter to better represent input data\\n'"
            ],
            "application/vnd.google.colaboratory.intrinsic+json": {
              "type": "string"
            }
          },
          "metadata": {},
          "execution_count": 19
        }
      ]
    },
    {
      "cell_type": "code",
      "source": [
        "#set seed. nn params are rand initialized\n",
        "torch.manual_seed(42)\n",
        "\n",
        "#create instance of model\n",
        "model_0 = LinearRegressionModel()\n",
        "\n",
        "#check the params in the module subclass we created\n",
        "list(model_0.parameters())"
      ],
      "metadata": {
        "colab": {
          "base_uri": "https://localhost:8080/"
        },
        "id": "7qTdwoVXRpjX",
        "outputId": "d976275d-ed1b-4396-ca1e-7227ef4534a4"
      },
      "execution_count": null,
      "outputs": [
        {
          "output_type": "execute_result",
          "data": {
            "text/plain": [
              "[Parameter containing:\n",
              " tensor([0.3367], requires_grad=True),\n",
              " Parameter containing:\n",
              " tensor([0.1288], requires_grad=True)]"
            ]
          },
          "metadata": {},
          "execution_count": 59
        }
      ]
    },
    {
      "cell_type": "code",
      "source": [
        "#list names params (state of model)\n",
        "model_0.state_dict()"
      ],
      "metadata": {
        "colab": {
          "base_uri": "https://localhost:8080/"
        },
        "id": "KA4qg0KcSMm1",
        "outputId": "3b12df89-bc3a-4dc5-c48f-d46fe1129138"
      },
      "execution_count": null,
      "outputs": [
        {
          "output_type": "execute_result",
          "data": {
            "text/plain": [
              "OrderedDict([('weights', tensor([0.3367])), ('bias', tensor([0.1288]))])"
            ]
          },
          "metadata": {},
          "execution_count": 60
        }
      ]
    },
    {
      "cell_type": "code",
      "source": [
        "#make predictions\n",
        "with torch.inference_mode():\n",
        "  y_preds = model_0(X_test)\n",
        "#inference mode turns off things like grad tracking. only for predicting, not training"
      ],
      "metadata": {
        "id": "Df4z95jmSUO8"
      },
      "execution_count": null,
      "outputs": []
    },
    {
      "cell_type": "code",
      "source": [
        "print(f\"Num of test samples: {len(X_test)}\")\n",
        "print(f\"Num of predictions made: {len(y_preds)}\")\n",
        "print(f\"predicted vals: \\n{y_preds}\")"
      ],
      "metadata": {
        "colab": {
          "base_uri": "https://localhost:8080/"
        },
        "id": "6cNn1dq1Tnry",
        "outputId": "ae803e4d-1470-46da-ab31-bc8ec1553c85"
      },
      "execution_count": null,
      "outputs": [
        {
          "output_type": "stream",
          "name": "stdout",
          "text": [
            "Num of test samples: 10\n",
            "Num of predictions made: 10\n",
            "predicted vals: \n",
            "tensor([[0.3982],\n",
            "        [0.4049],\n",
            "        [0.4116],\n",
            "        [0.4184],\n",
            "        [0.4251],\n",
            "        [0.4318],\n",
            "        [0.4386],\n",
            "        [0.4453],\n",
            "        [0.4520],\n",
            "        [0.4588]])\n"
          ]
        }
      ]
    },
    {
      "cell_type": "code",
      "source": [
        "plot_predictions(predictions = y_preds)"
      ],
      "metadata": {
        "colab": {
          "base_uri": "https://localhost:8080/",
          "height": 574
        },
        "id": "CF8qh-tMUF29",
        "outputId": "eb379aae-f4ea-468f-993c-7620002a5f72"
      },
      "execution_count": null,
      "outputs": [
        {
          "output_type": "display_data",
          "data": {
            "text/plain": [
              "<Figure size 1000x700 with 1 Axes>"
            ],
            "image/png": "[encoded data removed]"
          },
          "metadata": {}
        }
      ]
    },
    {
      "cell_type": "code",
      "source": [
        "#check error\n",
        "y_test - y_preds"
      ],
      "metadata": {
        "colab": {
          "base_uri": "https://localhost:8080/"
        },
        "id": "tcBt9OoSUQ4V",
        "outputId": "d388c41f-7f0d-4d2a-e29a-f21f66b3ba2e"
      },
      "execution_count": null,
      "outputs": [
        {
          "output_type": "execute_result",
          "data": {
            "text/plain": [
              "tensor([[0.4618],\n",
              "        [0.4691],\n",
              "        [0.4764],\n",
              "        [0.4836],\n",
              "        [0.4909],\n",
              "        [0.4982],\n",
              "        [0.5054],\n",
              "        [0.5127],\n",
              "        [0.5200],\n",
              "        [0.5272]])"
            ]
          },
          "metadata": {},
          "execution_count": 48
        }
      ]
    },
    {
      "cell_type": "code",
      "source": [
        "\"\"\"\n",
        "Common loss values (measure error):\n",
        "Mean absolute error (MAE) for regression problems (torch.nn.L1Loss()).\n",
        "Binary cross entropy for binary classification problems (torch.nn.BCELoss()).\n",
        "\n",
        "Common optimizers (how to update params to lower error):\n",
        "Stochastic gradient descent (torch.optim.SGD()).\n",
        "Adam optimizer (torch.optim.Adam()).\n",
        "\"\"\""
      ],
      "metadata": {
        "colab": {
          "base_uri": "https://localhost:8080/",
          "height": 87
        },
        "id": "rvzBKgjsUU63",
        "outputId": "822611ba-6823-43f1-a3cc-e5eaecec6cc5"
      },
      "execution_count": null,
      "outputs": [
        {
          "output_type": "execute_result",
          "data": {
            "text/plain": [
              "'\\nCommon loss values (measure error):\\nMean absolute error (MAE) for regression problems (torch.nn.L1Loss()). \\nBinary cross entropy for binary classification problems (torch.nn.BCELoss()).\\n\\nCommon optimizers (how to update params to lower error):\\nStochastic gradient descent (torch.optim.SGD()). \\nAdam optimizer (torch.optim.Adam()).\\n'"
            ],
            "application/vnd.google.colaboratory.intrinsic+json": {
              "type": "string"
            }
          },
          "metadata": {},
          "execution_count": 49
        }
      ]
    },
    {
      "cell_type": "code",
      "source": [
        "#loss func\n",
        "loss_fn = nn.L1Loss() #same as MAE\n",
        "\n",
        "#optimizer\n",
        "optimizer = torch.optim.SGD(params = model_0.parameters(), lr = 0.01)"
      ],
      "metadata": {
        "id": "GK0rQLxSVBEC"
      },
      "execution_count": null,
      "outputs": []
    },
    {
      "cell_type": "code",
      "source": [
        "#training loop\n",
        "\"\"\"\n",
        "forward pass, calc loss, zero grads, backprop, update optimizer\n",
        "\"\"\""
      ],
      "metadata": {
        "colab": {
          "base_uri": "https://localhost:8080/",
          "height": 35
        },
        "id": "Rap_f4mhVPd0",
        "outputId": "2ddfc603-81b3-4b95-e5e5-4d7041f759a1"
      },
      "execution_count": null,
      "outputs": [
        {
          "output_type": "execute_result",
          "data": {
            "text/plain": [
              "'\\nforward pass, calc loss, zero grads, backprop, update optimizer\\n'"
            ],
            "application/vnd.google.colaboratory.intrinsic+json": {
              "type": "string"
            }
          },
          "metadata": {},
          "execution_count": 51
        }
      ]
    },
    {
      "cell_type": "code",
      "source": [
        "#testing loop\n",
        "#forward pass, calc loss, calc eval metrics"
      ],
      "metadata": {
        "id": "fZWjShuMVxnY"
      },
      "execution_count": null,
      "outputs": []
    },
    {
      "cell_type": "code",
      "source": [
        "torch.manual_seed(42)\n",
        "\n",
        "epochs = 200\n",
        "\n",
        "#empty loss lists\n",
        "train_loss_values = []\n",
        "test_loss_values = []\n",
        "epoch_count = []\n",
        "\n",
        "for epoch in range(epochs):\n",
        "  #training mode\n",
        "  model_0.train()     #default state of model\n",
        "  y_pred = model_0(X_train) #forward pass using forward() method contained\n",
        "  loss = loss_fn(y_pred, y_train)     #calc loss\n",
        "  optimizer.zero_grad()     #zero grads of optimizer\n",
        "  loss.backward()           #backprop\n",
        "  optimizer.step()          #progress optimizer\n",
        "\n",
        "  #testing\n",
        "  model_0.eval()      #model in eval mode\n",
        "  with torch.inference_mode():\n",
        "    test_pred = model_0(X_test)     #forward pass on test data\n",
        "    test_loss = loss_fn(test_pred, y_test.type(torch.float))    #preds are float, so compare within same type\n",
        "    if epoch % 10 == 0:\n",
        "      epoch_count.append(epoch)\n",
        "      train_loss_values.append(loss.detach().numpy())\n",
        "      test_loss_values.append(test_loss.detach().numpy())\n",
        "      print(f\"Epoch: {epoch} | MAE Train Loss: {loss} | MAE Test Loss: {test_loss}\")"
      ],
      "metadata": {
        "colab": {
          "base_uri": "https://localhost:8080/"
        },
        "id": "BOj241tWWS6p",
        "outputId": "ee3cd2e6-63d1-44cc-9fed-23dc1deffb9e"
      },
      "execution_count": null,
      "outputs": [
        {
          "output_type": "stream",
          "name": "stdout",
          "text": [
            "Epoch: 0 | MAE Train Loss: 0.31288138031959534 | MAE Test Loss: 0.48106518387794495\n",
            "Epoch: 10 | MAE Train Loss: 0.1976713240146637 | MAE Test Loss: 0.3463551998138428\n",
            "Epoch: 20 | MAE Train Loss: 0.08908725529909134 | MAE Test Loss: 0.21729660034179688\n",
            "Epoch: 30 | MAE Train Loss: 0.053148526698350906 | MAE Test Loss: 0.14464017748832703\n",
            "Epoch: 40 | MAE Train Loss: 0.04543796554207802 | MAE Test Loss: 0.11360953003168106\n",
            "Epoch: 50 | MAE Train Loss: 0.04167863354086876 | MAE Test Loss: 0.09919948130846024\n",
            "Epoch: 60 | MAE Train Loss: 0.03818932920694351 | MAE Test Loss: 0.08886633068323135\n",
            "Epoch: 70 | MAE Train Loss: 0.03476089984178543 | MAE Test Loss: 0.0805937647819519\n",
            "Epoch: 80 | MAE Train Loss: 0.03132382780313492 | MAE Test Loss: 0.07232122868299484\n",
            "Epoch: 90 | MAE Train Loss: 0.02788739837706089 | MAE Test Loss: 0.06473556160926819\n",
            "Epoch: 100 | MAE Train Loss: 0.024458957836031914 | MAE Test Loss: 0.05646304413676262\n",
            "Epoch: 110 | MAE Train Loss: 0.021020207554101944 | MAE Test Loss: 0.04819049686193466\n",
            "Epoch: 120 | MAE Train Loss: 0.01758546568453312 | MAE Test Loss: 0.04060482233762741\n",
            "Epoch: 130 | MAE Train Loss: 0.014155393466353416 | MAE Test Loss: 0.03233227878808975\n",
            "Epoch: 140 | MAE Train Loss: 0.010716589167714119 | MAE Test Loss: 0.024059748277068138\n",
            "Epoch: 150 | MAE Train Loss: 0.0072835334576666355 | MAE Test Loss: 0.016474086791276932\n",
            "Epoch: 160 | MAE Train Loss: 0.0038517764769494534 | MAE Test Loss: 0.008201557211577892\n",
            "Epoch: 170 | MAE Train Loss: 0.008932482451200485 | MAE Test Loss: 0.005023092031478882\n",
            "Epoch: 180 | MAE Train Loss: 0.008932482451200485 | MAE Test Loss: 0.005023092031478882\n",
            "Epoch: 190 | MAE Train Loss: 0.008932482451200485 | MAE Test Loss: 0.005023092031478882\n"
          ]
        }
      ]
    },
    {
      "cell_type": "code",
      "source": [
        "#plot loss curves\n",
        "plt.plot(epoch_count, train_loss_values, label = \"train loss\")\n",
        "plt.plot(epoch_count, test_loss_values, label = \"test loss\")\n",
        "plt.title(\"training and test loss curves\")\n",
        "plt.ylabel(\"loss\")\n",
        "plt.xlabel('epochs')\n",
        "plt.legend();"
      ],
      "metadata": {
        "colab": {
          "base_uri": "https://localhost:8080/",
          "height": 472
        },
        "id": "LdJUdHCJYAC0",
        "outputId": "ad970211-b17f-42c6-d0da-331c2f89c2be"
      },
      "execution_count": null,
      "outputs": [
        {
          "output_type": "display_data",
          "data": {
            "text/plain": [
              "<Figure size 640x480 with 1 Axes>"
            ],
            "image/png": "[encoded data removed]"
          },
          "metadata": {}
        }
      ]
    },
    {
      "cell_type": "code",
      "source": [
        "# Find our model's learned parameters\n",
        "print(\"The model learned the following values for weights and bias:\")\n",
        "print(model_0.state_dict())\n",
        "print(\"\\nAnd the original values for weights and bias are:\")\n",
        "print(f\"weights: {weight}, bias: {bias}\")"
      ],
      "metadata": {
        "colab": {
          "base_uri": "https://localhost:8080/"
        },
        "id": "4scYiRkPYaQV",
        "outputId": "62102475-c42d-45ef-fbb3-ee0b6b4f51c9"
      },
      "execution_count": null,
      "outputs": [
        {
          "output_type": "stream",
          "name": "stdout",
          "text": [
            "The model learned the following values for weights and bias:\n",
            "OrderedDict([('weights', tensor([0.6990])), ('bias', tensor([0.3093]))])\n",
            "\n",
            "And the original values for weights and bias are:\n",
            "weights: 0.7, bias: 0.3\n"
          ]
        }
      ]
    },
    {
      "cell_type": "code",
      "source": [
        "#eval mode\n",
        "model_0.eval()\n",
        "\n",
        "#setup inference mode\n",
        "with torch.inference_mode():\n",
        "  #if we had been using multiple devices, check that calc is done on same device\n",
        "  #model_0.to(device)\n",
        "  #X_test = X_test.to(device)\n",
        "  y_preds = model_0(X_test)\n",
        "y_preds"
      ],
      "metadata": {
        "colab": {
          "base_uri": "https://localhost:8080/"
        },
        "id": "6k21fSCPZGsi",
        "outputId": "077a13b2-d858-497d-8ed7-eeacb71a65e7"
      },
      "execution_count": null,
      "outputs": [
        {
          "output_type": "execute_result",
          "data": {
            "text/plain": [
              "tensor([[0.8685],\n",
              "        [0.8825],\n",
              "        [0.8965],\n",
              "        [0.9105],\n",
              "        [0.9245],\n",
              "        [0.9384],\n",
              "        [0.9524],\n",
              "        [0.9664],\n",
              "        [0.9804],\n",
              "        [0.9944]])"
            ]
          },
          "metadata": {},
          "execution_count": 66
        }
      ]
    },
    {
      "cell_type": "code",
      "source": [
        "plot_predictions(predictions=y_preds)"
      ],
      "metadata": {
        "colab": {
          "base_uri": "https://localhost:8080/",
          "height": 574
        },
        "id": "SC0mNCJAaW9P",
        "outputId": "46eddd4d-405b-4780-c17f-b68a60c0756d"
      },
      "execution_count": null,
      "outputs": [
        {
          "output_type": "display_data",
          "data": {
            "text/plain": [
              "<Figure size 1000x700 with 1 Axes>"
            ],
            "image/png": "[encoded data removed]"
          },
          "metadata": {}
        }
      ]
    },
    {
      "cell_type": "code",
      "source": [
        "\"\"\"\n",
        "torch.save\tSaves a serialized object to disk using Python's pickle utility.\n",
        "\n",
        "torch.load\n",
        "Uses pickle's unpickling features to deserialize and load pickled Python object files into memory.\n",
        "You can also set which device to load the object to (CPU, GPU etc).\n",
        "\n",
        "torch.nn.Module.load_state_dict\tLoads a model's parameter dictionary\n",
        "(model.state_dict()) using a saved state_dict() object.\n",
        "\"\"\""
      ],
      "metadata": {
        "colab": {
          "base_uri": "https://localhost:8080/",
          "height": 87
        },
        "id": "xrFYqmYpaa0H",
        "outputId": "acc1b27b-9346-4f74-c0fb-4d216bee0b87"
      },
      "execution_count": null,
      "outputs": [
        {
          "output_type": "execute_result",
          "data": {
            "text/plain": [
              "\"\\ntorch.save\\tSaves a serialized object to disk using Python's pickle utility.\\n\\ntorch.load\\t\\nUses pickle's unpickling features to deserialize and load pickled Python object files into memory. \\nYou can also set which device to load the object to (CPU, GPU etc).\\n\\ntorch.nn.Module.load_state_dict\\tLoads a model's parameter dictionary \\n(model.state_dict()) using a saved state_dict() object.\\n\""
            ],
            "application/vnd.google.colaboratory.intrinsic+json": {
              "type": "string"
            }
          },
          "metadata": {},
          "execution_count": 68
        }
      ]
    },
    {
      "cell_type": "code",
      "source": [
        "from pathlib import Path\n",
        "\n",
        "#create model directory\n",
        "MODEL_PATH = Path(\"models\")\n",
        "MODEL_PATH.mkdir(parents = True, exist_ok = True)\n",
        "\n",
        "#create model save path\n",
        "MODEL_NAME = '01_pytorch_wkflw_model_0.pth'       #usually .pt or .pth\n",
        "MODEL_SAVE_PATH = MODEL_PATH / MODEL_NAME\n",
        "\n",
        "#save model state dict\n",
        "print(f\"Saving model to: {MODEL_SAVE_PATH}\")\n",
        "torch.save(obj = model_0.state_dict(),        #only saves parameter vals\n",
        "           f= MODEL_SAVE_PATH)"
      ],
      "metadata": {
        "colab": {
          "base_uri": "https://localhost:8080/"
        },
        "id": "6uCynCNjdTs9",
        "outputId": "470356e6-a6ae-4f9a-df04-93c73c544eae"
      },
      "execution_count": null,
      "outputs": [
        {
          "output_type": "stream",
          "name": "stdout",
          "text": [
            "Saving model to: models/01_pytorch_wkflw_model_0.pth\n"
          ]
        }
      ]
    },
    {
      "cell_type": "code",
      "source": [
        "!ls -l models/01_pytorch_wkflw_model_0.pth"
      ],
      "metadata": {
        "colab": {
          "base_uri": "https://localhost:8080/"
        },
        "id": "BGKVS50sdwMw",
        "outputId": "087646a5-724a-48cd-de9d-940eb91de217"
      },
      "execution_count": null,
      "outputs": [
        {
          "output_type": "stream",
          "name": "stdout",
          "text": [
            "-rw-r--r-- 1 root root 1662 Dec  7 22:48 models/01_pytorch_wkflw_model_0.pth\n"
          ]
        }
      ]
    },
    {
      "cell_type": "code",
      "source": [
        "loaded_model_0 = LinearRegressionModel()\n",
        "\n",
        "loaded_model_0.load_state_dict(torch.load(f = MODEL_SAVE_PATH))"
      ],
      "metadata": {
        "colab": {
          "base_uri": "https://localhost:8080/"
        },
        "id": "4swwk9yGeJSn",
        "outputId": "b6e8a78d-de72-412b-a074-9c9f1fb90ff5"
      },
      "execution_count": null,
      "outputs": [
        {
          "output_type": "execute_result",
          "data": {
            "text/plain": [
              "<All keys matched successfully>"
            ]
          },
          "metadata": {},
          "execution_count": 72
        }
      ]
    },
    {
      "cell_type": "code",
      "source": [
        "loaded_model_0.eval()\n",
        "\n",
        "with torch.inference_mode():\n",
        "  loaded_model_preds = loaded_model_0(X_test)\n"
      ],
      "metadata": {
        "id": "XlKXPax2elc2"
      },
      "execution_count": null,
      "outputs": []
    },
    {
      "cell_type": "code",
      "source": [
        "y_preds == loaded_model_preds"
      ],
      "metadata": {
        "colab": {
          "base_uri": "https://localhost:8080/"
        },
        "id": "NvY2F9ute2eZ",
        "outputId": "c9512f58-29e9-4fa9-dd87-90025813729c"
      },
      "execution_count": null,
      "outputs": [
        {
          "output_type": "execute_result",
          "data": {
            "text/plain": [
              "tensor([[True],\n",
              "        [True],\n",
              "        [True],\n",
              "        [True],\n",
              "        [True],\n",
              "        [True],\n",
              "        [True],\n",
              "        [True],\n",
              "        [True],\n",
              "        [True]])"
            ]
          },
          "metadata": {},
          "execution_count": 76
        }
      ]
    },
    {
      "cell_type": "code",
      "source": [
        "import torch\n",
        "from torch import nn\n",
        "import matplotlib.pyplot as plt\n",
        "\n",
        "torch.__version__"
      ],
      "metadata": {
        "colab": {
          "base_uri": "https://localhost:8080/",
          "height": 35
        },
        "id": "2rkbNIDHe4Wi",
        "outputId": "9a14a393-adf4-4c0f-d741-5e2eae96e2b3"
      },
      "execution_count": null,
      "outputs": [
        {
          "output_type": "execute_result",
          "data": {
            "text/plain": [
              "'2.1.0+cu118'"
            ],
            "application/vnd.google.colaboratory.intrinsic+json": {
              "type": "string"
            }
          },
          "metadata": {},
          "execution_count": 1
        }
      ]
    },
    {
      "cell_type": "code",
      "source": [
        "#device agnostic code\n",
        "device = 'cuda' if torch.cuda.is_available() else 'cpu'\n",
        "print(f\"using device: {device}\")"
      ],
      "metadata": {
        "colab": {
          "base_uri": "https://localhost:8080/"
        },
        "id": "WSUiis_cfNiq",
        "outputId": "8bcce7f7-ee25-44bd-8f60-9bad371179e5"
      },
      "execution_count": null,
      "outputs": [
        {
          "output_type": "stream",
          "name": "stdout",
          "text": [
            "using device: cuda\n"
          ]
        }
      ]
    },
    {
      "cell_type": "code",
      "source": [
        "weight = 0.7\n",
        "bias = 0.3\n",
        "\n",
        "start = 0\n",
        "end = 1\n",
        "step = 0.02\n",
        "\n",
        "X = torch.arange(start, end, step).unsqueeze(dim = 1) #w/o unsq, errors occur with shapes later on\n",
        "y = weight*X + bias\n",
        "X[:10], y[:10]"
      ],
      "metadata": {
        "colab": {
          "base_uri": "https://localhost:8080/"
        },
        "id": "o3Bgs_tcfaJh",
        "outputId": "19bbd8aa-1b79-441a-fa0f-85b6e1da6abc"
      },
      "execution_count": null,
      "outputs": [
        {
          "output_type": "execute_result",
          "data": {
            "text/plain": [
              "(tensor([[0.0000],\n",
              "         [0.0200],\n",
              "         [0.0400],\n",
              "         [0.0600],\n",
              "         [0.0800],\n",
              "         [0.1000],\n",
              "         [0.1200],\n",
              "         [0.1400],\n",
              "         [0.1600],\n",
              "         [0.1800]]),\n",
              " tensor([[0.3000],\n",
              "         [0.3140],\n",
              "         [0.3280],\n",
              "         [0.3420],\n",
              "         [0.3560],\n",
              "         [0.3700],\n",
              "         [0.3840],\n",
              "         [0.3980],\n",
              "         [0.4120],\n",
              "         [0.4260]]))"
            ]
          },
          "metadata": {},
          "execution_count": 3
        }
      ]
    },
    {
      "cell_type": "code",
      "source": [
        "train_split = int(0.8*len(X))\n",
        "X_train = X[:train_split]\n",
        "y_train = y[:train_split]\n",
        "X_test = X[train_split:]\n",
        "y_test = y[train_split:]\n",
        "\n",
        "len(X_train), len(y_train), len(X_test), len(y_test)"
      ],
      "metadata": {
        "colab": {
          "base_uri": "https://localhost:8080/"
        },
        "id": "v8IyTnChugU1",
        "outputId": "97c843d5-6ebf-4c2d-bd2d-737ad850451d"
      },
      "execution_count": null,
      "outputs": [
        {
          "output_type": "execute_result",
          "data": {
            "text/plain": [
              "(40, 40, 10, 10)"
            ]
          },
          "metadata": {},
          "execution_count": 5
        }
      ]
    },
    {
      "cell_type": "code",
      "source": [
        "#visualize\n",
        "def plot_predictions(train_data = X_train,\n",
        "                     train_labels = y_train,\n",
        "                     test_data = X_test,\n",
        "                     test_labels = y_test,\n",
        "                     predictions = None):\n",
        "\n",
        "#plots training data, test data and compares predictions\n",
        "\n",
        "  plt.figure(figsize = (10,7))\n",
        "\n",
        "  #training in blue, testing in green\n",
        "  plt.scatter(train_data, train_labels, c = 'b', s = 4, label = 'Training Data')\n",
        "  plt.scatter(test_data, test_labels, c= 'g', s = 4, label = 'Testing Data')\n",
        "\n",
        "  if predictions is not None:\n",
        "    #plot predictions in red\n",
        "    plt.scatter(test_data, predictions, c= 'r', s =4, label = 'Predictions')\n",
        "\n",
        "  #legend\n",
        "  plt.legend(prop= {'size':14});"
      ],
      "metadata": {
        "id": "_bmQKgkK1H7i"
      },
      "execution_count": null,
      "outputs": []
    },
    {
      "cell_type": "code",
      "source": [
        "plot_predictions()"
      ],
      "metadata": {
        "colab": {
          "base_uri": "https://localhost:8080/",
          "height": 574
        },
        "id": "zyA7E2P41TRB",
        "outputId": "a343545e-61fc-4aee-fb4a-3003ae765be1"
      },
      "execution_count": null,
      "outputs": [
        {
          "output_type": "display_data",
          "data": {
            "text/plain": [
              "<Figure size 1000x700 with 1 Axes>"
            ],
            "image/png": "[encoded data removed]"
          },
          "metadata": {}
        }
      ]
    },
    {
      "cell_type": "code",
      "source": [
        "#subclass nn.Module to make model\n",
        "class LinearRegressionModelv2(nn.Module):\n",
        "  def __init__(self):\n",
        "    super().__init__()\n",
        "    #use nn.Linear() for model params\n",
        "    self.linear_layer = nn.Linear(in_features = 1,\n",
        "                                  out_features=1)\n",
        "\n",
        "  def forward(self, x: torch.Tensor) -> torch.Tensor:\n",
        "    return self.linear_layer(x)"
      ],
      "metadata": {
        "id": "P_3ubVb31Zv2"
      },
      "execution_count": null,
      "outputs": []
    },
    {
      "cell_type": "code",
      "source": [
        "torch.manual_seed(42)\n",
        "model_1 = LinearRegressionModelv2()\n",
        "model_1, model_1.state_dict()"
      ],
      "metadata": {
        "colab": {
          "base_uri": "https://localhost:8080/"
        },
        "id": "UxAKJoWf2GF1",
        "outputId": "6cffa3d3-4780-4e03-9df5-5979b3f42431"
      },
      "execution_count": null,
      "outputs": [
        {
          "output_type": "execute_result",
          "data": {
            "text/plain": [
              "(LinearRegressionModelv2(\n",
              "   (linear_layer): Linear(in_features=1, out_features=1, bias=True)\n",
              " ),\n",
              " OrderedDict([('linear_layer.weight', tensor([[0.7645]])),\n",
              "              ('linear_layer.bias', tensor([0.8300]))]))"
            ]
          },
          "metadata": {},
          "execution_count": 9
        }
      ]
    },
    {
      "cell_type": "code",
      "source": [
        "#check model device\n",
        "next(model_1.parameters()).device"
      ],
      "metadata": {
        "colab": {
          "base_uri": "https://localhost:8080/"
        },
        "id": "ojNKeYcy2MVr",
        "outputId": "6ef6fd04-8425-458b-c0cb-2ff0680350af"
      },
      "execution_count": null,
      "outputs": [
        {
          "output_type": "execute_result",
          "data": {
            "text/plain": [
              "device(type='cpu')"
            ]
          },
          "metadata": {},
          "execution_count": 10
        }
      ]
    },
    {
      "cell_type": "code",
      "source": [
        "model_1.to(device)\n",
        "next(model_1.parameters()).device"
      ],
      "metadata": {
        "colab": {
          "base_uri": "https://localhost:8080/"
        },
        "id": "bKvbG7DP2WsE",
        "outputId": "4cebb412-8b5c-4882-da52-c4461bfb9ca9"
      },
      "execution_count": null,
      "outputs": [
        {
          "output_type": "execute_result",
          "data": {
            "text/plain": [
              "device(type='cuda', index=0)"
            ]
          },
          "metadata": {},
          "execution_count": 11
        }
      ]
    },
    {
      "cell_type": "code",
      "source": [
        "loss_fn = nn.L1Loss()\n",
        "optimizer = torch.optim.SGD(params = model_1.parameters(),\n",
        "                            lr = 0.01)"
      ],
      "metadata": {
        "id": "ud0qVn2y2c2C"
      },
      "execution_count": null,
      "outputs": []
    },
    {
      "cell_type": "code",
      "source": [
        "torch.manual_seed(42)\n",
        "epochs = 1000\n",
        "X_train = X_train.to(device)\n",
        "y_train = y_train.to(device)\n",
        "X_test = X_test.to(device)\n",
        "y_test = y_test.to(device)\n",
        "\n",
        "for epoch in range(epochs):\n",
        "  model_1.train()\n",
        "  y_pred = model_1(X_train)\n",
        "  loss = loss_fn(y_pred, y_train)\n",
        "  optimizer.zero_grad()\n",
        "  loss.backward()\n",
        "  optimizer.step()\n",
        "\n",
        "  #testing\n",
        "  model_1.eval()\n",
        "  with torch.inference_mode():\n",
        "    test_pred = model_1(X_test)\n",
        "    test_loss = loss_fn(test_pred, y_test)\n",
        "\n",
        "  if epoch % 100 == 0:\n",
        "    print(f\"epoch: {epoch} | train loss: {loss} | test loss: {test_loss}\")"
      ],
      "metadata": {
        "colab": {
          "base_uri": "https://localhost:8080/"
        },
        "id": "MmcjlTUm25mx",
        "outputId": "ad966561-37c9-4fed-f39e-2231c0adbcc3"
      },
      "execution_count": null,
      "outputs": [
        {
          "output_type": "stream",
          "name": "stdout",
          "text": [
            "epoch: 0 | train loss: 0.5551779866218567 | test loss: 0.5739762187004089\n",
            "epoch: 100 | train loss: 0.006215683650225401 | test loss: 0.014086711220443249\n",
            "epoch: 200 | train loss: 0.0012645035749301314 | test loss: 0.013801801018416882\n",
            "epoch: 300 | train loss: 0.0012645035749301314 | test loss: 0.013801801018416882\n",
            "epoch: 400 | train loss: 0.0012645035749301314 | test loss: 0.013801801018416882\n",
            "epoch: 500 | train loss: 0.0012645035749301314 | test loss: 0.013801801018416882\n",
            "epoch: 600 | train loss: 0.0012645035749301314 | test loss: 0.013801801018416882\n",
            "epoch: 700 | train loss: 0.0012645035749301314 | test loss: 0.013801801018416882\n",
            "epoch: 800 | train loss: 0.0012645035749301314 | test loss: 0.013801801018416882\n",
            "epoch: 900 | train loss: 0.0012645035749301314 | test loss: 0.013801801018416882\n"
          ]
        }
      ]
    },
    {
      "cell_type": "code",
      "source": [
        "from pprint import pprint #pprint is pretty print\n",
        "print(model_1.state_dict())\n",
        "pprint(model_1.state_dict())\n",
        "print(weight)\n",
        "print(bias)"
      ],
      "metadata": {
        "colab": {
          "base_uri": "https://localhost:8080/"
        },
        "id": "o4HsqAfE3SYr",
        "outputId": "2a93a3a1-558a-4985-af0c-6e94fff8b113"
      },
      "execution_count": null,
      "outputs": [
        {
          "output_type": "stream",
          "name": "stdout",
          "text": [
            "OrderedDict([('linear_layer.weight', tensor([[0.6968]], device='cuda:0')), ('linear_layer.bias', tensor([0.3025], device='cuda:0'))])\n",
            "OrderedDict([('linear_layer.weight', tensor([[0.6968]], device='cuda:0')),\n",
            "             ('linear_layer.bias', tensor([0.3025], device='cuda:0'))])\n",
            "0.7\n",
            "0.3\n"
          ]
        }
      ]
    },
    {
      "cell_type": "code",
      "source": [
        "model_1.eval()\n",
        "with torch.inference_mode():\n",
        "  predictions = model_1(X_test)\n",
        "predictions"
      ],
      "metadata": {
        "colab": {
          "base_uri": "https://localhost:8080/"
        },
        "id": "qfuK5A6q4r0v",
        "outputId": "87a45329-2fe0-4fa4-eff3-ddb17a495e4d"
      },
      "execution_count": null,
      "outputs": [
        {
          "output_type": "execute_result",
          "data": {
            "text/plain": [
              "tensor([[0.8600],\n",
              "        [0.8739],\n",
              "        [0.8878],\n",
              "        [0.9018],\n",
              "        [0.9157],\n",
              "        [0.9296],\n",
              "        [0.9436],\n",
              "        [0.9575],\n",
              "        [0.9714],\n",
              "        [0.9854]], device='cuda:0')"
            ]
          },
          "metadata": {},
          "execution_count": 18
        }
      ]
    },
    {
      "cell_type": "code",
      "source": [
        "#make sure data is back on cpu for use with pandas, matplotlib, numpy\n",
        "plot_predictions(predictions = predictions.cpu())"
      ],
      "metadata": {
        "colab": {
          "base_uri": "https://localhost:8080/",
          "height": 574
        },
        "id": "YIfHBVn65DRT",
        "outputId": "2814bfbf-a52e-477c-ecc8-3dd4ac0ad498"
      },
      "execution_count": null,
      "outputs": [
        {
          "output_type": "display_data",
          "data": {
            "text/plain": [
              "<Figure size 1000x700 with 1 Axes>"
            ],
            "image/png": "[encoded data removed]"
          },
          "metadata": {}
        }
      ]
    },
    {
      "cell_type": "code",
      "source": [
        "from pathlib import Path\n",
        "\n",
        "MODEL_PATH = Path('Models')\n",
        "MODEL_PATH.mkdir(parents = True, exist_ok = True)\n",
        "\n",
        "MODEL_NAME = '01_pytorch wkflw_model_1'\n",
        "MODEL_SAVE_PATH = MODEL_PATH / MODEL_NAME\n",
        "\n",
        "print(f\"saving model to: {MODEL_SAVE_PATH}\")\n",
        "torch.save(model_1.state_dict(), MODEL_SAVE_PATH)\n"
      ],
      "metadata": {
        "colab": {
          "base_uri": "https://localhost:8080/"
        },
        "id": "a3gMsaS45UKR",
        "outputId": "3640858b-aa46-472c-d7a3-cd319a3f4b6b"
      },
      "execution_count": null,
      "outputs": [
        {
          "output_type": "stream",
          "name": "stdout",
          "text": [
            "saving model to: Models/01_pytorch wkflw_model_1\n"
          ]
        }
      ]
    },
    {
      "cell_type": "code",
      "source": [
        "loaded_model_1 = LinearRegressionModelv2()\n",
        "loaded_model_1.load_state_dict(torch.load(MODEL_SAVE_PATH))\n",
        "loaded_model_1.to(device)\n",
        "\n",
        "print(f\"Loaded model:\\n{loaded_model_1}\")\n",
        "print(f\"Model on device:\\n{next(loaded_model_1.parameters()).device}\")"
      ],
      "metadata": {
        "colab": {
          "base_uri": "https://localhost:8080/"
        },
        "id": "qYD7xzvF6Crj",
        "outputId": "9d496529-82b3-4572-8e07-fd037fb09411"
      },
      "execution_count": null,
      "outputs": [
        {
          "output_type": "stream",
          "name": "stdout",
          "text": [
            "Loaded model:\n",
            "LinearRegressionModelv2(\n",
            "  (linear_layer): Linear(in_features=1, out_features=1, bias=True)\n",
            ")\n",
            "Model on device:\n",
            "cuda:0\n"
          ]
        }
      ]
    },
    {
      "cell_type": "code",
      "source": [
        "loaded_model_1.eval()\n",
        "with torch.inference_mode():\n",
        "  loaded_preds_1 = loaded_model_1(X_test)\n",
        "predictions == loaded_preds_1"
      ],
      "metadata": {
        "colab": {
          "base_uri": "https://localhost:8080/"
        },
        "id": "eayyinV16cL4",
        "outputId": "c5be481e-43aa-430b-92cd-04041fc4aaa5"
      },
      "execution_count": null,
      "outputs": [
        {
          "output_type": "execute_result",
          "data": {
            "text/plain": [
              "tensor([[True],\n",
              "        [True],\n",
              "        [True],\n",
              "        [True],\n",
              "        [True],\n",
              "        [True],\n",
              "        [True],\n",
              "        [True],\n",
              "        [True],\n",
              "        [True]], device='cuda:0')"
            ]
          },
          "metadata": {},
          "execution_count": 24
        }
      ]
    },
    {
      "cell_type": "code",
      "source": [],
      "metadata": {
        "id": "ci8iad4M6st8"
      },
      "execution_count": null,
      "outputs": []
    }
  ]
}