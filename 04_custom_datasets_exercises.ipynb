{
  "nbformat": 4,
  "nbformat_minor": 0,
  "metadata": {
    "colab": {
      "provenance": [],
      "gpuType": "T4"
    },
    "kernelspec": {
      "name": "python3",
      "display_name": "Python 3"
    },
    "language_info": {
      "name": "python"
    },
    "accelerator": "GPU",
    "widgets": {
      "application/vnd.jupyter.widget-state+json": {
        "f6958a2dc2344340a13b5b660d1e8013": {
          "model_module": "@jupyter-widgets/controls",
          "model_name": "HBoxModel",
          "model_module_version": "1.5.0",
          "state": {
            "_dom_classes": [],
            "_model_module": "@jupyter-widgets/controls",
            "_model_module_version": "1.5.0",
            "_model_name": "HBoxModel",
            "_view_count": null,
            "_view_module": "@jupyter-widgets/controls",
            "_view_module_version": "1.5.0",
            "_view_name": "HBoxView",
            "box_style": "",
            "children": [
              "IPY_MODEL_7e7ff58a9db94f5995ea4ae65f985b86",
              "IPY_MODEL_ef7e6d63def04eb5be90236645c1b68c",
              "IPY_MODEL_43118088099945aba99c98bfccf4173b"
            ],
            "layout": "IPY_MODEL_e9fc2260588f44aeba3e86f512034200"
          }
        },
        "7e7ff58a9db94f5995ea4ae65f985b86": {
          "model_module": "@jupyter-widgets/controls",
          "model_name": "HTMLModel",
          "model_module_version": "1.5.0",
          "state": {
            "_dom_classes": [],
            "_model_module": "@jupyter-widgets/controls",
            "_model_module_version": "1.5.0",
            "_model_name": "HTMLModel",
            "_view_count": null,
            "_view_module": "@jupyter-widgets/controls",
            "_view_module_version": "1.5.0",
            "_view_name": "HTMLView",
            "description": "",
            "description_tooltip": null,
            "layout": "IPY_MODEL_2970b3bc7904434c9b97732425d1f8d2",
            "placeholder": "​",
            "style": "IPY_MODEL_a2f7d64a5d074b86b2e8fd26503880b4",
            "value": "100%"
          }
        },
        "ef7e6d63def04eb5be90236645c1b68c": {
          "model_module": "@jupyter-widgets/controls",
          "model_name": "FloatProgressModel",
          "model_module_version": "1.5.0",
          "state": {
            "_dom_classes": [],
            "_model_module": "@jupyter-widgets/controls",
            "_model_module_version": "1.5.0",
            "_model_name": "FloatProgressModel",
            "_view_count": null,
            "_view_module": "@jupyter-widgets/controls",
            "_view_module_version": "1.5.0",
            "_view_name": "ProgressView",
            "bar_style": "success",
            "description": "",
            "description_tooltip": null,
            "layout": "IPY_MODEL_fbca0ae8c91b48bfa0effce919046331",
            "max": 20,
            "min": 0,
            "orientation": "horizontal",
            "style": "IPY_MODEL_80b46816ceec4fc0843be03f55fdf4e9",
            "value": 20
          }
        },
        "43118088099945aba99c98bfccf4173b": {
          "model_module": "@jupyter-widgets/controls",
          "model_name": "HTMLModel",
          "model_module_version": "1.5.0",
          "state": {
            "_dom_classes": [],
            "_model_module": "@jupyter-widgets/controls",
            "_model_module_version": "1.5.0",
            "_model_name": "HTMLModel",
            "_view_count": null,
            "_view_module": "@jupyter-widgets/controls",
            "_view_module_version": "1.5.0",
            "_view_name": "HTMLView",
            "description": "",
            "description_tooltip": null,
            "layout": "IPY_MODEL_7af6dff07a664068aca1d43480710839",
            "placeholder": "​",
            "style": "IPY_MODEL_1717f233aaf94e5387520b2b53342ef2",
            "value": " 20/20 [00:35&lt;00:00,  1.68s/it]"
          }
        },
        "e9fc2260588f44aeba3e86f512034200": {
          "model_module": "@jupyter-widgets/base",
          "model_name": "LayoutModel",
          "model_module_version": "1.2.0",
          "state": {
            "_model_module": "@jupyter-widgets/base",
            "_model_module_version": "1.2.0",
            "_model_name": "LayoutModel",
            "_view_count": null,
            "_view_module": "@jupyter-widgets/base",
            "_view_module_version": "1.2.0",
            "_view_name": "LayoutView",
            "align_content": null,
            "align_items": null,
            "align_self": null,
            "border": null,
            "bottom": null,
            "display": null,
            "flex": null,
            "flex_flow": null,
            "grid_area": null,
            "grid_auto_columns": null,
            "grid_auto_flow": null,
            "grid_auto_rows": null,
            "grid_column": null,
            "grid_gap": null,
            "grid_row": null,
            "grid_template_areas": null,
            "grid_template_columns": null,
            "grid_template_rows": null,
            "height": null,
            "justify_content": null,
            "justify_items": null,
            "left": null,
            "margin": null,
            "max_height": null,
            "max_width": null,
            "min_height": null,
            "min_width": null,
            "object_fit": null,
            "object_position": null,
            "order": null,
            "overflow": null,
            "overflow_x": null,
            "overflow_y": null,
            "padding": null,
            "right": null,
            "top": null,
            "visibility": null,
            "width": null
          }
        },
        "2970b3bc7904434c9b97732425d1f8d2": {
          "model_module": "@jupyter-widgets/base",
          "model_name": "LayoutModel",
          "model_module_version": "1.2.0",
          "state": {
            "_model_module": "@jupyter-widgets/base",
            "_model_module_version": "1.2.0",
            "_model_name": "LayoutModel",
            "_view_count": null,
            "_view_module": "@jupyter-widgets/base",
            "_view_module_version": "1.2.0",
            "_view_name": "LayoutView",
            "align_content": null,
            "align_items": null,
            "align_self": null,
            "border": null,
            "bottom": null,
            "display": null,
            "flex": null,
            "flex_flow": null,
            "grid_area": null,
            "grid_auto_columns": null,
            "grid_auto_flow": null,
            "grid_auto_rows": null,
            "grid_column": null,
            "grid_gap": null,
            "grid_row": null,
            "grid_template_areas": null,
            "grid_template_columns": null,
            "grid_template_rows": null,
            "height": null,
            "justify_content": null,
            "justify_items": null,
            "left": null,
            "margin": null,
            "max_height": null,
            "max_width": null,
            "min_height": null,
            "min_width": null,
            "object_fit": null,
            "object_position": null,
            "order": null,
            "overflow": null,
            "overflow_x": null,
            "overflow_y": null,
            "padding": null,
            "right": null,
            "top": null,
            "visibility": null,
            "width": null
          }
        },
        "a2f7d64a5d074b86b2e8fd26503880b4": {
          "model_module": "@jupyter-widgets/controls",
          "model_name": "DescriptionStyleModel",
          "model_module_version": "1.5.0",
          "state": {
            "_model_module": "@jupyter-widgets/controls",
            "_model_module_version": "1.5.0",
            "_model_name": "DescriptionStyleModel",
            "_view_count": null,
            "_view_module": "@jupyter-widgets/base",
            "_view_module_version": "1.2.0",
            "_view_name": "StyleView",
            "description_width": ""
          }
        },
        "fbca0ae8c91b48bfa0effce919046331": {
          "model_module": "@jupyter-widgets/base",
          "model_name": "LayoutModel",
          "model_module_version": "1.2.0",
          "state": {
            "_model_module": "@jupyter-widgets/base",
            "_model_module_version": "1.2.0",
            "_model_name": "LayoutModel",
            "_view_count": null,
            "_view_module": "@jupyter-widgets/base",
            "_view_module_version": "1.2.0",
            "_view_name": "LayoutView",
            "align_content": null,
            "align_items": null,
            "align_self": null,
            "border": null,
            "bottom": null,
            "display": null,
            "flex": null,
            "flex_flow": null,
            "grid_area": null,
            "grid_auto_columns": null,
            "grid_auto_flow": null,
            "grid_auto_rows": null,
            "grid_column": null,
            "grid_gap": null,
            "grid_row": null,
            "grid_template_areas": null,
            "grid_template_columns": null,
            "grid_template_rows": null,
            "height": null,
            "justify_content": null,
            "justify_items": null,
            "left": null,
            "margin": null,
            "max_height": null,
            "max_width": null,
            "min_height": null,
            "min_width": null,
            "object_fit": null,
            "object_position": null,
            "order": null,
            "overflow": null,
            "overflow_x": null,
            "overflow_y": null,
            "padding": null,
            "right": null,
            "top": null,
            "visibility": null,
            "width": null
          }
        },
        "80b46816ceec4fc0843be03f55fdf4e9": {
          "model_module": "@jupyter-widgets/controls",
          "model_name": "ProgressStyleModel",
          "model_module_version": "1.5.0",
          "state": {
            "_model_module": "@jupyter-widgets/controls",
            "_model_module_version": "1.5.0",
            "_model_name": "ProgressStyleModel",
            "_view_count": null,
            "_view_module": "@jupyter-widgets/base",
            "_view_module_version": "1.2.0",
            "_view_name": "StyleView",
            "bar_color": null,
            "description_width": ""
          }
        },
        "7af6dff07a664068aca1d43480710839": {
          "model_module": "@jupyter-widgets/base",
          "model_name": "LayoutModel",
          "model_module_version": "1.2.0",
          "state": {
            "_model_module": "@jupyter-widgets/base",
            "_model_module_version": "1.2.0",
            "_model_name": "LayoutModel",
            "_view_count": null,
            "_view_module": "@jupyter-widgets/base",
            "_view_module_version": "1.2.0",
            "_view_name": "LayoutView",
            "align_content": null,
            "align_items": null,
            "align_self": null,
            "border": null,
            "bottom": null,
            "display": null,
            "flex": null,
            "flex_flow": null,
            "grid_area": null,
            "grid_auto_columns": null,
            "grid_auto_flow": null,
            "grid_auto_rows": null,
            "grid_column": null,
            "grid_gap": null,
            "grid_row": null,
            "grid_template_areas": null,
            "grid_template_columns": null,
            "grid_template_rows": null,
            "height": null,
            "justify_content": null,
            "justify_items": null,
            "left": null,
            "margin": null,
            "max_height": null,
            "max_width": null,
            "min_height": null,
            "min_width": null,
            "object_fit": null,
            "object_position": null,
            "order": null,
            "overflow": null,
            "overflow_x": null,
            "overflow_y": null,
            "padding": null,
            "right": null,
            "top": null,
            "visibility": null,
            "width": null
          }
        },
        "1717f233aaf94e5387520b2b53342ef2": {
          "model_module": "@jupyter-widgets/controls",
          "model_name": "DescriptionStyleModel",
          "model_module_version": "1.5.0",
          "state": {
            "_model_module": "@jupyter-widgets/controls",
            "_model_module_version": "1.5.0",
            "_model_name": "DescriptionStyleModel",
            "_view_count": null,
            "_view_module": "@jupyter-widgets/base",
            "_view_module_version": "1.2.0",
            "_view_name": "StyleView",
            "description_width": ""
          }
        },
        "3c0014b3d4e64b9ca3bd12c47eb38a8f": {
          "model_module": "@jupyter-widgets/controls",
          "model_name": "HBoxModel",
          "model_module_version": "1.5.0",
          "state": {
            "_dom_classes": [],
            "_model_module": "@jupyter-widgets/controls",
            "_model_module_version": "1.5.0",
            "_model_name": "HBoxModel",
            "_view_count": null,
            "_view_module": "@jupyter-widgets/controls",
            "_view_module_version": "1.5.0",
            "_view_name": "HBoxView",
            "box_style": "",
            "children": [
              "IPY_MODEL_6317a6183d8148dab73d44a89b1fbbce",
              "IPY_MODEL_31119c0396aa49698e5967419d9bb43b",
              "IPY_MODEL_fd9c797e00024eed93490e517e3592a7"
            ],
            "layout": "IPY_MODEL_917d2e934d6142a78895080e5c4eaf95"
          }
        },
        "6317a6183d8148dab73d44a89b1fbbce": {
          "model_module": "@jupyter-widgets/controls",
          "model_name": "HTMLModel",
          "model_module_version": "1.5.0",
          "state": {
            "_dom_classes": [],
            "_model_module": "@jupyter-widgets/controls",
            "_model_module_version": "1.5.0",
            "_model_name": "HTMLModel",
            "_view_count": null,
            "_view_module": "@jupyter-widgets/controls",
            "_view_module_version": "1.5.0",
            "_view_name": "HTMLView",
            "description": "",
            "description_tooltip": null,
            "layout": "IPY_MODEL_00bf0611e50140939608fc2b05c9bbac",
            "placeholder": "​",
            "style": "IPY_MODEL_6dd078ebff0f4680869ccad3443fe20b",
            "value": "100%"
          }
        },
        "31119c0396aa49698e5967419d9bb43b": {
          "model_module": "@jupyter-widgets/controls",
          "model_name": "FloatProgressModel",
          "model_module_version": "1.5.0",
          "state": {
            "_dom_classes": [],
            "_model_module": "@jupyter-widgets/controls",
            "_model_module_version": "1.5.0",
            "_model_name": "FloatProgressModel",
            "_view_count": null,
            "_view_module": "@jupyter-widgets/controls",
            "_view_module_version": "1.5.0",
            "_view_name": "ProgressView",
            "bar_style": "success",
            "description": "",
            "description_tooltip": null,
            "layout": "IPY_MODEL_51e0f76561d94a60a4cff87d1144137d",
            "max": 20,
            "min": 0,
            "orientation": "horizontal",
            "style": "IPY_MODEL_4f0ef6f92e824d8586b884d86c7a6f25",
            "value": 20
          }
        },
        "fd9c797e00024eed93490e517e3592a7": {
          "model_module": "@jupyter-widgets/controls",
          "model_name": "HTMLModel",
          "model_module_version": "1.5.0",
          "state": {
            "_dom_classes": [],
            "_model_module": "@jupyter-widgets/controls",
            "_model_module_version": "1.5.0",
            "_model_name": "HTMLModel",
            "_view_count": null,
            "_view_module": "@jupyter-widgets/controls",
            "_view_module_version": "1.5.0",
            "_view_name": "HTMLView",
            "description": "",
            "description_tooltip": null,
            "layout": "IPY_MODEL_b1523839e7434904b8621d36ca86cdc4",
            "placeholder": "​",
            "style": "IPY_MODEL_f4aed24be7744008ad05ae9bb95a5519",
            "value": " 20/20 [00:38&lt;00:00,  1.96s/it]"
          }
        },
        "917d2e934d6142a78895080e5c4eaf95": {
          "model_module": "@jupyter-widgets/base",
          "model_name": "LayoutModel",
          "model_module_version": "1.2.0",
          "state": {
            "_model_module": "@jupyter-widgets/base",
            "_model_module_version": "1.2.0",
            "_model_name": "LayoutModel",
            "_view_count": null,
            "_view_module": "@jupyter-widgets/base",
            "_view_module_version": "1.2.0",
            "_view_name": "LayoutView",
            "align_content": null,
            "align_items": null,
            "align_self": null,
            "border": null,
            "bottom": null,
            "display": null,
            "flex": null,
            "flex_flow": null,
            "grid_area": null,
            "grid_auto_columns": null,
            "grid_auto_flow": null,
            "grid_auto_rows": null,
            "grid_column": null,
            "grid_gap": null,
            "grid_row": null,
            "grid_template_areas": null,
            "grid_template_columns": null,
            "grid_template_rows": null,
            "height": null,
            "justify_content": null,
            "justify_items": null,
            "left": null,
            "margin": null,
            "max_height": null,
            "max_width": null,
            "min_height": null,
            "min_width": null,
            "object_fit": null,
            "object_position": null,
            "order": null,
            "overflow": null,
            "overflow_x": null,
            "overflow_y": null,
            "padding": null,
            "right": null,
            "top": null,
            "visibility": null,
            "width": null
          }
        },
        "00bf0611e50140939608fc2b05c9bbac": {
          "model_module": "@jupyter-widgets/base",
          "model_name": "LayoutModel",
          "model_module_version": "1.2.0",
          "state": {
            "_model_module": "@jupyter-widgets/base",
            "_model_module_version": "1.2.0",
            "_model_name": "LayoutModel",
            "_view_count": null,
            "_view_module": "@jupyter-widgets/base",
            "_view_module_version": "1.2.0",
            "_view_name": "LayoutView",
            "align_content": null,
            "align_items": null,
            "align_self": null,
            "border": null,
            "bottom": null,
            "display": null,
            "flex": null,
            "flex_flow": null,
            "grid_area": null,
            "grid_auto_columns": null,
            "grid_auto_flow": null,
            "grid_auto_rows": null,
            "grid_column": null,
            "grid_gap": null,
            "grid_row": null,
            "grid_template_areas": null,
            "grid_template_columns": null,
            "grid_template_rows": null,
            "height": null,
            "justify_content": null,
            "justify_items": null,
            "left": null,
            "margin": null,
            "max_height": null,
            "max_width": null,
            "min_height": null,
            "min_width": null,
            "object_fit": null,
            "object_position": null,
            "order": null,
            "overflow": null,
            "overflow_x": null,
            "overflow_y": null,
            "padding": null,
            "right": null,
            "top": null,
            "visibility": null,
            "width": null
          }
        },
        "6dd078ebff0f4680869ccad3443fe20b": {
          "model_module": "@jupyter-widgets/controls",
          "model_name": "DescriptionStyleModel",
          "model_module_version": "1.5.0",
          "state": {
            "_model_module": "@jupyter-widgets/controls",
            "_model_module_version": "1.5.0",
            "_model_name": "DescriptionStyleModel",
            "_view_count": null,
            "_view_module": "@jupyter-widgets/base",
            "_view_module_version": "1.2.0",
            "_view_name": "StyleView",
            "description_width": ""
          }
        },
        "51e0f76561d94a60a4cff87d1144137d": {
          "model_module": "@jupyter-widgets/base",
          "model_name": "LayoutModel",
          "model_module_version": "1.2.0",
          "state": {
            "_model_module": "@jupyter-widgets/base",
            "_model_module_version": "1.2.0",
            "_model_name": "LayoutModel",
            "_view_count": null,
            "_view_module": "@jupyter-widgets/base",
            "_view_module_version": "1.2.0",
            "_view_name": "LayoutView",
            "align_content": null,
            "align_items": null,
            "align_self": null,
            "border": null,
            "bottom": null,
            "display": null,
            "flex": null,
            "flex_flow": null,
            "grid_area": null,
            "grid_auto_columns": null,
            "grid_auto_flow": null,
            "grid_auto_rows": null,
            "grid_column": null,
            "grid_gap": null,
            "grid_row": null,
            "grid_template_areas": null,
            "grid_template_columns": null,
            "grid_template_rows": null,
            "height": null,
            "justify_content": null,
            "justify_items": null,
            "left": null,
            "margin": null,
            "max_height": null,
            "max_width": null,
            "min_height": null,
            "min_width": null,
            "object_fit": null,
            "object_position": null,
            "order": null,
            "overflow": null,
            "overflow_x": null,
            "overflow_y": null,
            "padding": null,
            "right": null,
            "top": null,
            "visibility": null,
            "width": null
          }
        },
        "4f0ef6f92e824d8586b884d86c7a6f25": {
          "model_module": "@jupyter-widgets/controls",
          "model_name": "ProgressStyleModel",
          "model_module_version": "1.5.0",
          "state": {
            "_model_module": "@jupyter-widgets/controls",
            "_model_module_version": "1.5.0",
            "_model_name": "ProgressStyleModel",
            "_view_count": null,
            "_view_module": "@jupyter-widgets/base",
            "_view_module_version": "1.2.0",
            "_view_name": "StyleView",
            "bar_color": null,
            "description_width": ""
          }
        },
        "b1523839e7434904b8621d36ca86cdc4": {
          "model_module": "@jupyter-widgets/base",
          "model_name": "LayoutModel",
          "model_module_version": "1.2.0",
          "state": {
            "_model_module": "@jupyter-widgets/base",
            "_model_module_version": "1.2.0",
            "_model_name": "LayoutModel",
            "_view_count": null,
            "_view_module": "@jupyter-widgets/base",
            "_view_module_version": "1.2.0",
            "_view_name": "LayoutView",
            "align_content": null,
            "align_items": null,
            "align_self": null,
            "border": null,
            "bottom": null,
            "display": null,
            "flex": null,
            "flex_flow": null,
            "grid_area": null,
            "grid_auto_columns": null,
            "grid_auto_flow": null,
            "grid_auto_rows": null,
            "grid_column": null,
            "grid_gap": null,
            "grid_row": null,
            "grid_template_areas": null,
            "grid_template_columns": null,
            "grid_template_rows": null,
            "height": null,
            "justify_content": null,
            "justify_items": null,
            "left": null,
            "margin": null,
            "max_height": null,
            "max_width": null,
            "min_height": null,
            "min_width": null,
            "object_fit": null,
            "object_position": null,
            "order": null,
            "overflow": null,
            "overflow_x": null,
            "overflow_y": null,
            "padding": null,
            "right": null,
            "top": null,
            "visibility": null,
            "width": null
          }
        },
        "f4aed24be7744008ad05ae9bb95a5519": {
          "model_module": "@jupyter-widgets/controls",
          "model_name": "DescriptionStyleModel",
          "model_module_version": "1.5.0",
          "state": {
            "_model_module": "@jupyter-widgets/controls",
            "_model_module_version": "1.5.0",
            "_model_name": "DescriptionStyleModel",
            "_view_count": null,
            "_view_module": "@jupyter-widgets/base",
            "_view_module_version": "1.2.0",
            "_view_name": "StyleView",
            "description_width": ""
          }
        },
        "586ae6b23f7942b1ae0debd62d913fd3": {
          "model_module": "@jupyter-widgets/controls",
          "model_name": "HBoxModel",
          "model_module_version": "1.5.0",
          "state": {
            "_dom_classes": [],
            "_model_module": "@jupyter-widgets/controls",
            "_model_module_version": "1.5.0",
            "_model_name": "HBoxModel",
            "_view_count": null,
            "_view_module": "@jupyter-widgets/controls",
            "_view_module_version": "1.5.0",
            "_view_name": "HBoxView",
            "box_style": "",
            "children": [
              "IPY_MODEL_55e026efc5a3411e930e7bfb9eab4b90",
              "IPY_MODEL_2c03d3bf27e542a9a55f89e631a8e151",
              "IPY_MODEL_d4d7fc2da61c48b69876a840aca974c5"
            ],
            "layout": "IPY_MODEL_bfc3f84320f0467eb1d6f18b8348cbab"
          }
        },
        "55e026efc5a3411e930e7bfb9eab4b90": {
          "model_module": "@jupyter-widgets/controls",
          "model_name": "HTMLModel",
          "model_module_version": "1.5.0",
          "state": {
            "_dom_classes": [],
            "_model_module": "@jupyter-widgets/controls",
            "_model_module_version": "1.5.0",
            "_model_name": "HTMLModel",
            "_view_count": null,
            "_view_module": "@jupyter-widgets/controls",
            "_view_module_version": "1.5.0",
            "_view_name": "HTMLView",
            "description": "",
            "description_tooltip": null,
            "layout": "IPY_MODEL_155e257bf22646809b36db9a28a277fa",
            "placeholder": "​",
            "style": "IPY_MODEL_8ba4ce8cdda4491d928608c0efbd0400",
            "value": "100%"
          }
        },
        "2c03d3bf27e542a9a55f89e631a8e151": {
          "model_module": "@jupyter-widgets/controls",
          "model_name": "FloatProgressModel",
          "model_module_version": "1.5.0",
          "state": {
            "_dom_classes": [],
            "_model_module": "@jupyter-widgets/controls",
            "_model_module_version": "1.5.0",
            "_model_name": "FloatProgressModel",
            "_view_count": null,
            "_view_module": "@jupyter-widgets/controls",
            "_view_module_version": "1.5.0",
            "_view_name": "ProgressView",
            "bar_style": "success",
            "description": "",
            "description_tooltip": null,
            "layout": "IPY_MODEL_9bfbb15c2e104f1b98f61087d83019cf",
            "max": 30,
            "min": 0,
            "orientation": "horizontal",
            "style": "IPY_MODEL_32bcb74aa0944b5ca8628bef2850f871",
            "value": 30
          }
        },
        "d4d7fc2da61c48b69876a840aca974c5": {
          "model_module": "@jupyter-widgets/controls",
          "model_name": "HTMLModel",
          "model_module_version": "1.5.0",
          "state": {
            "_dom_classes": [],
            "_model_module": "@jupyter-widgets/controls",
            "_model_module_version": "1.5.0",
            "_model_name": "HTMLModel",
            "_view_count": null,
            "_view_module": "@jupyter-widgets/controls",
            "_view_module_version": "1.5.0",
            "_view_name": "HTMLView",
            "description": "",
            "description_tooltip": null,
            "layout": "IPY_MODEL_ff397dabb7e14a7d8291e6f67413087d",
            "placeholder": "​",
            "style": "IPY_MODEL_f98e9c6254d5478297e3158b1e4435e5",
            "value": " 30/30 [00:58&lt;00:00,  2.20s/it]"
          }
        },
        "bfc3f84320f0467eb1d6f18b8348cbab": {
          "model_module": "@jupyter-widgets/base",
          "model_name": "LayoutModel",
          "model_module_version": "1.2.0",
          "state": {
            "_model_module": "@jupyter-widgets/base",
            "_model_module_version": "1.2.0",
            "_model_name": "LayoutModel",
            "_view_count": null,
            "_view_module": "@jupyter-widgets/base",
            "_view_module_version": "1.2.0",
            "_view_name": "LayoutView",
            "align_content": null,
            "align_items": null,
            "align_self": null,
            "border": null,
            "bottom": null,
            "display": null,
            "flex": null,
            "flex_flow": null,
            "grid_area": null,
            "grid_auto_columns": null,
            "grid_auto_flow": null,
            "grid_auto_rows": null,
            "grid_column": null,
            "grid_gap": null,
            "grid_row": null,
            "grid_template_areas": null,
            "grid_template_columns": null,
            "grid_template_rows": null,
            "height": null,
            "justify_content": null,
            "justify_items": null,
            "left": null,
            "margin": null,
            "max_height": null,
            "max_width": null,
            "min_height": null,
            "min_width": null,
            "object_fit": null,
            "object_position": null,
            "order": null,
            "overflow": null,
            "overflow_x": null,
            "overflow_y": null,
            "padding": null,
            "right": null,
            "top": null,
            "visibility": null,
            "width": null
          }
        },
        "155e257bf22646809b36db9a28a277fa": {
          "model_module": "@jupyter-widgets/base",
          "model_name": "LayoutModel",
          "model_module_version": "1.2.0",
          "state": {
            "_model_module": "@jupyter-widgets/base",
            "_model_module_version": "1.2.0",
            "_model_name": "LayoutModel",
            "_view_count": null,
            "_view_module": "@jupyter-widgets/base",
            "_view_module_version": "1.2.0",
            "_view_name": "LayoutView",
            "align_content": null,
            "align_items": null,
            "align_self": null,
            "border": null,
            "bottom": null,
            "display": null,
            "flex": null,
            "flex_flow": null,
            "grid_area": null,
            "grid_auto_columns": null,
            "grid_auto_flow": null,
            "grid_auto_rows": null,
            "grid_column": null,
            "grid_gap": null,
            "grid_row": null,
            "grid_template_areas": null,
            "grid_template_columns": null,
            "grid_template_rows": null,
            "height": null,
            "justify_content": null,
            "justify_items": null,
            "left": null,
            "margin": null,
            "max_height": null,
            "max_width": null,
            "min_height": null,
            "min_width": null,
            "object_fit": null,
            "object_position": null,
            "order": null,
            "overflow": null,
            "overflow_x": null,
            "overflow_y": null,
            "padding": null,
            "right": null,
            "top": null,
            "visibility": null,
            "width": null
          }
        },
        "8ba4ce8cdda4491d928608c0efbd0400": {
          "model_module": "@jupyter-widgets/controls",
          "model_name": "DescriptionStyleModel",
          "model_module_version": "1.5.0",
          "state": {
            "_model_module": "@jupyter-widgets/controls",
            "_model_module_version": "1.5.0",
            "_model_name": "DescriptionStyleModel",
            "_view_count": null,
            "_view_module": "@jupyter-widgets/base",
            "_view_module_version": "1.2.0",
            "_view_name": "StyleView",
            "description_width": ""
          }
        },
        "9bfbb15c2e104f1b98f61087d83019cf": {
          "model_module": "@jupyter-widgets/base",
          "model_name": "LayoutModel",
          "model_module_version": "1.2.0",
          "state": {
            "_model_module": "@jupyter-widgets/base",
            "_model_module_version": "1.2.0",
            "_model_name": "LayoutModel",
            "_view_count": null,
            "_view_module": "@jupyter-widgets/base",
            "_view_module_version": "1.2.0",
            "_view_name": "LayoutView",
            "align_content": null,
            "align_items": null,
            "align_self": null,
            "border": null,
            "bottom": null,
            "display": null,
            "flex": null,
            "flex_flow": null,
            "grid_area": null,
            "grid_auto_columns": null,
            "grid_auto_flow": null,
            "grid_auto_rows": null,
            "grid_column": null,
            "grid_gap": null,
            "grid_row": null,
            "grid_template_areas": null,
            "grid_template_columns": null,
            "grid_template_rows": null,
            "height": null,
            "justify_content": null,
            "justify_items": null,
            "left": null,
            "margin": null,
            "max_height": null,
            "max_width": null,
            "min_height": null,
            "min_width": null,
            "object_fit": null,
            "object_position": null,
            "order": null,
            "overflow": null,
            "overflow_x": null,
            "overflow_y": null,
            "padding": null,
            "right": null,
            "top": null,
            "visibility": null,
            "width": null
          }
        },
        "32bcb74aa0944b5ca8628bef2850f871": {
          "model_module": "@jupyter-widgets/controls",
          "model_name": "ProgressStyleModel",
          "model_module_version": "1.5.0",
          "state": {
            "_model_module": "@jupyter-widgets/controls",
            "_model_module_version": "1.5.0",
            "_model_name": "ProgressStyleModel",
            "_view_count": null,
            "_view_module": "@jupyter-widgets/base",
            "_view_module_version": "1.2.0",
            "_view_name": "StyleView",
            "bar_color": null,
            "description_width": ""
          }
        },
        "ff397dabb7e14a7d8291e6f67413087d": {
          "model_module": "@jupyter-widgets/base",
          "model_name": "LayoutModel",
          "model_module_version": "1.2.0",
          "state": {
            "_model_module": "@jupyter-widgets/base",
            "_model_module_version": "1.2.0",
            "_model_name": "LayoutModel",
            "_view_count": null,
            "_view_module": "@jupyter-widgets/base",
            "_view_module_version": "1.2.0",
            "_view_name": "LayoutView",
            "align_content": null,
            "align_items": null,
            "align_self": null,
            "border": null,
            "bottom": null,
            "display": null,
            "flex": null,
            "flex_flow": null,
            "grid_area": null,
            "grid_auto_columns": null,
            "grid_auto_flow": null,
            "grid_auto_rows": null,
            "grid_column": null,
            "grid_gap": null,
            "grid_row": null,
            "grid_template_areas": null,
            "grid_template_columns": null,
            "grid_template_rows": null,
            "height": null,
            "justify_content": null,
            "justify_items": null,
            "left": null,
            "margin": null,
            "max_height": null,
            "max_width": null,
            "min_height": null,
            "min_width": null,
            "object_fit": null,
            "object_position": null,
            "order": null,
            "overflow": null,
            "overflow_x": null,
            "overflow_y": null,
            "padding": null,
            "right": null,
            "top": null,
            "visibility": null,
            "width": null
          }
        },
        "f98e9c6254d5478297e3158b1e4435e5": {
          "model_module": "@jupyter-widgets/controls",
          "model_name": "DescriptionStyleModel",
          "model_module_version": "1.5.0",
          "state": {
            "_model_module": "@jupyter-widgets/controls",
            "_model_module_version": "1.5.0",
            "_model_name": "DescriptionStyleModel",
            "_view_count": null,
            "_view_module": "@jupyter-widgets/base",
            "_view_module_version": "1.2.0",
            "_view_name": "StyleView",
            "description_width": ""
          }
        }
      }
    }
  },
  "cells": [
    {
      "cell_type": "code",
      "execution_count": 1,
      "metadata": {
        "id": "vNkgszznPJp2"
      },
      "outputs": [],
      "source": [
        "#ways to deal with underfitting\n",
        "#more epochs: allow the model to train for longer\n",
        "#larger learning rate: allow the model to make larger adjustments\n",
        "#increase complexity: more complex model can fit to the training data more precisely"
      ]
    },
    {
      "cell_type": "code",
      "source": [
        "import torch\n",
        "import torchvision\n",
        "from torch import nn\n",
        "from torchvision import datasets, transforms\n",
        "from torch.utils.data import DataLoader\n",
        "\n",
        "device = 'cuda' if torch.cuda.is_available() else 'gpu'\n",
        "device"
      ],
      "metadata": {
        "colab": {
          "base_uri": "https://localhost:8080/",
          "height": 35
        },
        "id": "PNgQh0AJQLzY",
        "outputId": "3f3bcbd0-6342-47f9-e503-cb586357f2a8"
      },
      "execution_count": 2,
      "outputs": [
        {
          "output_type": "execute_result",
          "data": {
            "text/plain": [
              "'cuda'"
            ],
            "application/vnd.google.colaboratory.intrinsic+json": {
              "type": "string"
            }
          },
          "metadata": {},
          "execution_count": 2
        }
      ]
    },
    {
      "cell_type": "code",
      "source": [
        "import requests\n",
        "import zipfile\n",
        "from pathlib import Path\n",
        "\n",
        "data_path = Path('data/')\n",
        "img_path = data_path / 'pizza_steak_sushi_20_percent'\n",
        "\n",
        "if img_path.is_dir():\n",
        "  print(f'already exists')\n",
        "else:\n",
        "  print('creating dir')\n",
        "  img_path.mkdir(parents = True, exist_ok = True)\n",
        "\n",
        "  with open(data_path / 'pizza_steak_sushi_20_percent.zip', 'wb') as f:\n",
        "    request = requests.get('https://github.com/mrdbourke/pytorch-deep-learning/raw/main/data/pizza_steak_sushi_20_percent.zip')\n",
        "    print('downloading')\n",
        "    f.write(request.content)\n",
        "\n",
        "  with zipfile.ZipFile(data_path / 'pizza_steak_sushi_20_percent.zip', 'r') as zip_ref:\n",
        "    print('unzipping')\n",
        "    zip_ref.extractall(img_path)"
      ],
      "metadata": {
        "colab": {
          "base_uri": "https://localhost:8080/"
        },
        "id": "_LZH8cigSjDW",
        "outputId": "ad97c49b-7e77-4250-91c6-e236827d0505"
      },
      "execution_count": 8,
      "outputs": [
        {
          "output_type": "stream",
          "name": "stdout",
          "text": [
            "creating dir\n",
            "downloading\n",
            "unzipping\n"
          ]
        }
      ]
    },
    {
      "cell_type": "code",
      "source": [
        "import os\n",
        "def walk_through_dir(dir_path):\n",
        "  for dirpath, dirnames, filenames in os.walk(dir_path):\n",
        "    print(f'there are {len(dirnames)} directories, {len(filenames)} images in {dirpath}')"
      ],
      "metadata": {
        "id": "Kit7rycfUpGJ"
      },
      "execution_count": 9,
      "outputs": []
    },
    {
      "cell_type": "code",
      "source": [
        "walk_through_dir(img_path)"
      ],
      "metadata": {
        "colab": {
          "base_uri": "https://localhost:8080/"
        },
        "id": "v7qj7bOoV_ca",
        "outputId": "12ec4544-a731-44ca-b9c5-c9330fbb1336"
      },
      "execution_count": 10,
      "outputs": [
        {
          "output_type": "stream",
          "name": "stdout",
          "text": [
            "there are 2 directories, 0 images in data/pizza_steak_sushi_20_percent\n",
            "there are 3 directories, 0 images in data/pizza_steak_sushi_20_percent/test\n",
            "there are 0 directories, 58 images in data/pizza_steak_sushi_20_percent/test/steak\n",
            "there are 0 directories, 46 images in data/pizza_steak_sushi_20_percent/test/pizza\n",
            "there are 0 directories, 46 images in data/pizza_steak_sushi_20_percent/test/sushi\n",
            "there are 3 directories, 0 images in data/pizza_steak_sushi_20_percent/train\n",
            "there are 0 directories, 146 images in data/pizza_steak_sushi_20_percent/train/steak\n",
            "there are 0 directories, 154 images in data/pizza_steak_sushi_20_percent/train/pizza\n",
            "there are 0 directories, 150 images in data/pizza_steak_sushi_20_percent/train/sushi\n"
          ]
        }
      ]
    },
    {
      "cell_type": "code",
      "source": [
        "train_dir = img_path / 'train'\n",
        "test_dir = img_path/ 'test'\n",
        "train_dir, test_dir"
      ],
      "metadata": {
        "colab": {
          "base_uri": "https://localhost:8080/"
        },
        "id": "uz3hjabeWF-d",
        "outputId": "b5b886d3-6cc4-4664-8c6e-ec0728537e08"
      },
      "execution_count": 11,
      "outputs": [
        {
          "output_type": "execute_result",
          "data": {
            "text/plain": [
              "(PosixPath('data/pizza_steak_sushi_20_percent/train'),\n",
              " PosixPath('data/pizza_steak_sushi_20_percent/test'))"
            ]
          },
          "metadata": {},
          "execution_count": 11
        }
      ]
    },
    {
      "cell_type": "code",
      "source": [
        "trans = transforms.Compose([\n",
        "    transforms.Resize(size= (64, 64)),\n",
        "    transforms.RandomHorizontalFlip(p = 0.5),\n",
        "    transforms.ToTensor()\n",
        "])"
      ],
      "metadata": {
        "id": "MdyRkqf-WF6P"
      },
      "execution_count": 12,
      "outputs": []
    },
    {
      "cell_type": "code",
      "source": [
        "train_data = datasets.ImageFolder(root=train_dir,\n",
        "                                  transform = trans,\n",
        "                                  target_transform=None)\n",
        "\n",
        "test_data = datasets.ImageFolder(root = test_dir,\n",
        "                                 transform = trans)\n",
        "\n",
        "train_data, test_data"
      ],
      "metadata": {
        "colab": {
          "base_uri": "https://localhost:8080/"
        },
        "id": "nUxUA34ZWFvT",
        "outputId": "1587e7f6-6d87-47ea-db18-d2803709df9c"
      },
      "execution_count": 13,
      "outputs": [
        {
          "output_type": "execute_result",
          "data": {
            "text/plain": [
              "(Dataset ImageFolder\n",
              "     Number of datapoints: 450\n",
              "     Root location: data/pizza_steak_sushi_20_percent/train\n",
              "     StandardTransform\n",
              " Transform: Compose(\n",
              "                Resize(size=(64, 64), interpolation=bilinear, max_size=None, antialias=warn)\n",
              "                RandomHorizontalFlip(p=0.5)\n",
              "                ToTensor()\n",
              "            ),\n",
              " Dataset ImageFolder\n",
              "     Number of datapoints: 150\n",
              "     Root location: data/pizza_steak_sushi_20_percent/test\n",
              "     StandardTransform\n",
              " Transform: Compose(\n",
              "                Resize(size=(64, 64), interpolation=bilinear, max_size=None, antialias=warn)\n",
              "                RandomHorizontalFlip(p=0.5)\n",
              "                ToTensor()\n",
              "            ))"
            ]
          },
          "metadata": {},
          "execution_count": 13
        }
      ]
    },
    {
      "cell_type": "code",
      "source": [
        "class_names = train_data.classes\n",
        "class_names"
      ],
      "metadata": {
        "colab": {
          "base_uri": "https://localhost:8080/"
        },
        "id": "tGASV063W1hZ",
        "outputId": "29643586-c945-486d-a752-0a2ce53f3df6"
      },
      "execution_count": 14,
      "outputs": [
        {
          "output_type": "execute_result",
          "data": {
            "text/plain": [
              "['pizza', 'steak', 'sushi']"
            ]
          },
          "metadata": {},
          "execution_count": 14
        }
      ]
    },
    {
      "cell_type": "code",
      "source": [
        "NUM_WORKERS = os.cpu_count()\n",
        "train_DL = DataLoader(dataset= train_data,\n",
        "                      batch_size = 32,\n",
        "                      num_workers = NUM_WORKERS,\n",
        "                      shuffle = True)\n",
        "\n",
        "test_DL = DataLoader(dataset = test_data,\n",
        "                     batch_size = 32,\n",
        "                     num_workers = NUM_WORKERS,\n",
        "                     shuffle = False)"
      ],
      "metadata": {
        "id": "Z5W1Ah4JW8A2"
      },
      "execution_count": 15,
      "outputs": []
    },
    {
      "cell_type": "code",
      "source": [
        "class TinyVGG(nn.Module):\n",
        "  def __init__(self, input_shape:int, hidden_units:int, output_shape:int):\n",
        "    super().__init__()\n",
        "    self.conv_block1 = nn.Sequential(\n",
        "        nn.Conv2d(in_channels = input_shape, out_channels = hidden_units, kernel_size = 3,\n",
        "                  stride = 1, padding=1),\n",
        "        nn.ReLU(),\n",
        "        nn.Conv2d(hidden_units, hidden_units, kernel_size=3, stride = 1, padding = 1),\n",
        "        nn.ReLU(),\n",
        "        nn.MaxPool2d(kernel_size=2, stride = 2)\n",
        "    )\n",
        "    self.conv_block2 = nn.Sequential(\n",
        "        nn.Conv2d(hidden_units,hidden_units, kernel_size = 3, padding = 1),\n",
        "        nn.ReLU(),\n",
        "        nn.Conv2d(hidden_units, hidden_units, kernel_size = 3, padding = 1),\n",
        "        nn.ReLU(),\n",
        "        nn.MaxPool2d(2)\n",
        "    )\n",
        "    self.classifier = nn.Sequential(\n",
        "        nn.Flatten(),\n",
        "        nn.Linear(in_features=hidden_units*16*16,\n",
        "                  out_features = output_shape)\n",
        "    )\n",
        "\n",
        "  def forward(self, x: torch.Tensor):\n",
        "    return self.classifier(self.conv_block2(self.conv_block1(x)))"
      ],
      "metadata": {
        "id": "b8dm4WHfQ68o"
      },
      "execution_count": 25,
      "outputs": []
    },
    {
      "cell_type": "code",
      "source": [
        "torch.manual_seed(199)\n",
        "model_0 = TinyVGG(3, 10, len(class_names)).to(device)\n",
        "model_0"
      ],
      "metadata": {
        "colab": {
          "base_uri": "https://localhost:8080/"
        },
        "id": "yfZVG-IySeS1",
        "outputId": "8c10a77a-6934-41df-9321-c2230fe9c33b"
      },
      "execution_count": 26,
      "outputs": [
        {
          "output_type": "execute_result",
          "data": {
            "text/plain": [
              "TinyVGG(\n",
              "  (conv_block1): Sequential(\n",
              "    (0): Conv2d(3, 10, kernel_size=(3, 3), stride=(1, 1), padding=(1, 1))\n",
              "    (1): ReLU()\n",
              "    (2): Conv2d(10, 10, kernel_size=(3, 3), stride=(1, 1), padding=(1, 1))\n",
              "    (3): ReLU()\n",
              "    (4): MaxPool2d(kernel_size=2, stride=2, padding=0, dilation=1, ceil_mode=False)\n",
              "  )\n",
              "  (conv_block2): Sequential(\n",
              "    (0): Conv2d(10, 10, kernel_size=(3, 3), stride=(1, 1), padding=(1, 1))\n",
              "    (1): ReLU()\n",
              "    (2): Conv2d(10, 10, kernel_size=(3, 3), stride=(1, 1), padding=(1, 1))\n",
              "    (3): ReLU()\n",
              "    (4): MaxPool2d(kernel_size=2, stride=2, padding=0, dilation=1, ceil_mode=False)\n",
              "  )\n",
              "  (classifier): Sequential(\n",
              "    (0): Flatten(start_dim=1, end_dim=-1)\n",
              "    (1): Linear(in_features=2560, out_features=3, bias=True)\n",
              "  )\n",
              ")"
            ]
          },
          "metadata": {},
          "execution_count": 26
        }
      ]
    },
    {
      "cell_type": "code",
      "source": [
        "def train_step(model: torch.nn.Module,\n",
        "               dataloader: torch.utils.data.DataLoader,\n",
        "               loss_fn: torch.nn.Module,\n",
        "               optimizer: torch.optim.Optimizer):\n",
        "  model.train()\n",
        "  train_loss, train_acc = 0, 0\n",
        "\n",
        "  for batch, (X, y) in enumerate(dataloader):\n",
        "    X, y = X.to(device), y.to(device)\n",
        "    pred = model(X)\n",
        "    loss = loss_fn(pred, y)\n",
        "    train_loss += loss.item()\n",
        "    optimizer.zero_grad()\n",
        "    loss.backward()\n",
        "    optimizer.step()\n",
        "\n",
        "    y_pred_class = torch.argmax(torch.softmax(pred, dim = 1), dim = 1)\n",
        "    train_acc += (y_pred_class == y).sum().item()/len(pred)\n",
        "\n",
        "  train_loss /= len(dataloader)\n",
        "  train_acc /= len(dataloader)\n",
        "  return train_loss, train_acc"
      ],
      "metadata": {
        "id": "TnIXwjC4X1TT"
      },
      "execution_count": 18,
      "outputs": []
    },
    {
      "cell_type": "code",
      "source": [
        "def test_step(model: torch.nn.Module,\n",
        "              dataloader: torch.utils.data.DataLoader,\n",
        "              loss_fn: torch.nn.Module):\n",
        "  model.eval()\n",
        "  test_loss, test_acc = 0, 0\n",
        "\n",
        "  for batch, (X, y) in enumerate(dataloader):\n",
        "    X, y = X.to(device), y.to(device)\n",
        "    test_pred = model(X)\n",
        "    loss = loss_fn(test_pred, y)\n",
        "    test_loss += loss.item()\n",
        "\n",
        "    test_pred_class = torch.argmax(torch.softmax(test_pred, dim = 1), dim = 1)\n",
        "    test_acc += (test_pred_class == y).sum().item()/len(test_pred)\n",
        "\n",
        "  test_loss /= len(dataloader)\n",
        "  test_acc/= len(dataloader)\n",
        "  return test_loss, test_acc"
      ],
      "metadata": {
        "id": "WfM0mGYbY6kZ"
      },
      "execution_count": 19,
      "outputs": []
    },
    {
      "cell_type": "code",
      "source": [
        "from tqdm.auto import tqdm\n",
        "\n",
        "def train(model: torch.nn.Module,\n",
        "          train_dataloader: torch.utils.data.DataLoader,\n",
        "          test_dataloader: torch.utils.data.DataLoader,\n",
        "          loss_fn: torch.nn.Module,\n",
        "          optimizer: torch.optim.Optimizer,\n",
        "          epochs: int):\n",
        "  results = {'train_loss': [], 'train_acc': [], 'test_loss': [], 'test_acc': []}\n",
        "  for epoch in tqdm(range(epochs)):\n",
        "    train_loss, train_acc = train_step(model, train_dataloader, loss_fn, optimizer)\n",
        "    test_loss, test_acc = test_step(model, test_dataloader, loss_fn)\n",
        "    print(\n",
        "            f\"Epoch: {epoch+1} | \"\n",
        "            f\"train_loss: {train_loss:.4f} | \"\n",
        "            f\"train_acc: {train_acc:.4f} | \"\n",
        "            f\"test_loss: {test_loss:.4f} | \"\n",
        "            f\"test_acc: {test_acc:.4f}\"\n",
        "        )\n",
        "\n",
        "    results[\"train_loss\"].append(train_loss)\n",
        "    results[\"train_acc\"].append(train_acc)\n",
        "    results[\"test_loss\"].append(test_loss)\n",
        "    results[\"test_acc\"].append(test_acc)\n",
        "\n",
        "  return results"
      ],
      "metadata": {
        "id": "pMLyoK3EZnhT"
      },
      "execution_count": 23,
      "outputs": []
    },
    {
      "cell_type": "code",
      "source": [
        "torch.manual_seed(199)\n",
        "torch.cuda.manual_seed(199)\n",
        "\n",
        "EPOCHS = 20\n",
        "\n",
        "loss_fn = nn.CrossEntropyLoss()\n",
        "optimizer = torch.optim.Adam(params = model_0.parameters(), lr = 0.001)\n",
        "\n",
        "from timeit import default_timer as timer\n",
        "start_time = timer()\n",
        "model_0_results_20_epochs = train(model_0, train_DL, test_DL, loss_fn, optimizer, EPOCHS)\n",
        "end_time = timer()\n",
        "\n",
        "print(f'total train time: {end_time - start_time:.3f} seconds')"
      ],
      "metadata": {
        "colab": {
          "base_uri": "https://localhost:8080/",
          "height": 414,
          "referenced_widgets": [
            "f6958a2dc2344340a13b5b660d1e8013",
            "7e7ff58a9db94f5995ea4ae65f985b86",
            "ef7e6d63def04eb5be90236645c1b68c",
            "43118088099945aba99c98bfccf4173b",
            "e9fc2260588f44aeba3e86f512034200",
            "2970b3bc7904434c9b97732425d1f8d2",
            "a2f7d64a5d074b86b2e8fd26503880b4",
            "fbca0ae8c91b48bfa0effce919046331",
            "80b46816ceec4fc0843be03f55fdf4e9",
            "7af6dff07a664068aca1d43480710839",
            "1717f233aaf94e5387520b2b53342ef2"
          ]
        },
        "id": "ZnEB8tZ5at6J",
        "outputId": "b4448200-5868-4758-dc90-09e88d95251e"
      },
      "execution_count": 30,
      "outputs": [
        {
          "output_type": "display_data",
          "data": {
            "text/plain": [
              "  0%|          | 0/20 [00:00<?, ?it/s]"
            ],
            "application/vnd.jupyter.widget-view+json": {
              "version_major": 2,
              "version_minor": 0,
              "model_id": "f6958a2dc2344340a13b5b660d1e8013"
            }
          },
          "metadata": {}
        },
        {
          "output_type": "stream",
          "name": "stdout",
          "text": [
            "Epoch: 1 | train_loss: 0.7677 | train_acc: 0.6271 | test_loss: 0.8972 | test_acc: 0.5523\n",
            "Epoch: 2 | train_loss: 0.7243 | train_acc: 0.6958 | test_loss: 0.8506 | test_acc: 0.6062\n",
            "Epoch: 3 | train_loss: 0.7078 | train_acc: 0.6958 | test_loss: 0.9133 | test_acc: 0.6142\n",
            "Epoch: 4 | train_loss: 0.7105 | train_acc: 0.6875 | test_loss: 0.8574 | test_acc: 0.5966\n",
            "Epoch: 5 | train_loss: 0.6943 | train_acc: 0.6813 | test_loss: 0.8782 | test_acc: 0.6136\n",
            "Epoch: 6 | train_loss: 0.7587 | train_acc: 0.6562 | test_loss: 0.9270 | test_acc: 0.5693\n",
            "Epoch: 7 | train_loss: 0.6995 | train_acc: 0.7229 | test_loss: 0.8532 | test_acc: 0.6528\n",
            "Epoch: 8 | train_loss: 0.6454 | train_acc: 0.7521 | test_loss: 0.8748 | test_acc: 0.6074\n",
            "Epoch: 9 | train_loss: 0.6348 | train_acc: 0.7417 | test_loss: 0.8908 | test_acc: 0.6261\n",
            "Epoch: 10 | train_loss: 0.6114 | train_acc: 0.7333 | test_loss: 0.8573 | test_acc: 0.6534\n",
            "Epoch: 11 | train_loss: 0.6123 | train_acc: 0.7125 | test_loss: 0.9002 | test_acc: 0.6182\n",
            "Epoch: 12 | train_loss: 0.6449 | train_acc: 0.7542 | test_loss: 0.8895 | test_acc: 0.6045\n",
            "Epoch: 13 | train_loss: 0.6333 | train_acc: 0.7312 | test_loss: 0.8467 | test_acc: 0.6182\n",
            "Epoch: 14 | train_loss: 0.5678 | train_acc: 0.7667 | test_loss: 0.9739 | test_acc: 0.6324\n",
            "Epoch: 15 | train_loss: 0.5821 | train_acc: 0.7375 | test_loss: 0.8468 | test_acc: 0.6068\n",
            "Epoch: 16 | train_loss: 0.5917 | train_acc: 0.7750 | test_loss: 0.9150 | test_acc: 0.5977\n",
            "Epoch: 17 | train_loss: 0.6104 | train_acc: 0.7375 | test_loss: 0.8902 | test_acc: 0.6642\n",
            "Epoch: 18 | train_loss: 0.6465 | train_acc: 0.7646 | test_loss: 0.8736 | test_acc: 0.6222\n",
            "Epoch: 19 | train_loss: 0.5685 | train_acc: 0.7583 | test_loss: 0.9102 | test_acc: 0.5818\n",
            "Epoch: 20 | train_loss: 0.5066 | train_acc: 0.8000 | test_loss: 0.9301 | test_acc: 0.6131\n",
            "total train time: 35.457 seconds\n"
          ]
        }
      ]
    },
    {
      "cell_type": "code",
      "source": [
        "torch.manual_seed(199)\n",
        "torch.cuda.manual_seed(199)\n",
        "model_1 = TinyVGG(3, 20, len(class_names)).to(device) #double the hidden layer amount\n",
        "optimizer_1 = torch.optim.Adam(params = model_1.parameters(), lr = 0.001)\n",
        "\n",
        "EPOCHS = 20\n",
        "\n",
        "start_time = timer()\n",
        "model_1_results_20_epochs = train(model_1, train_DL, test_DL, loss_fn, optimizer_1, EPOCHS)\n",
        "end_time = timer()\n",
        "\n",
        "print(f'trained in {end_time- start_time:.3f} seconds')"
      ],
      "metadata": {
        "colab": {
          "base_uri": "https://localhost:8080/",
          "height": 414,
          "referenced_widgets": [
            "3c0014b3d4e64b9ca3bd12c47eb38a8f",
            "6317a6183d8148dab73d44a89b1fbbce",
            "31119c0396aa49698e5967419d9bb43b",
            "fd9c797e00024eed93490e517e3592a7",
            "917d2e934d6142a78895080e5c4eaf95",
            "00bf0611e50140939608fc2b05c9bbac",
            "6dd078ebff0f4680869ccad3443fe20b",
            "51e0f76561d94a60a4cff87d1144137d",
            "4f0ef6f92e824d8586b884d86c7a6f25",
            "b1523839e7434904b8621d36ca86cdc4",
            "f4aed24be7744008ad05ae9bb95a5519"
          ]
        },
        "id": "Z4DfEsrAbjuL",
        "outputId": "f48705e4-73d0-44d6-c49c-7ca783374bb1"
      },
      "execution_count": 32,
      "outputs": [
        {
          "output_type": "display_data",
          "data": {
            "text/plain": [
              "  0%|          | 0/20 [00:00<?, ?it/s]"
            ],
            "application/vnd.jupyter.widget-view+json": {
              "version_major": 2,
              "version_minor": 0,
              "model_id": "3c0014b3d4e64b9ca3bd12c47eb38a8f"
            }
          },
          "metadata": {}
        },
        {
          "output_type": "stream",
          "name": "stdout",
          "text": [
            "Epoch: 1 | train_loss: 1.1043 | train_acc: 0.2917 | test_loss: 1.0970 | test_acc: 0.4295\n",
            "Epoch: 2 | train_loss: 1.0772 | train_acc: 0.4729 | test_loss: 1.1172 | test_acc: 0.2938\n",
            "Epoch: 3 | train_loss: 1.0917 | train_acc: 0.3542 | test_loss: 1.0489 | test_acc: 0.4670\n",
            "Epoch: 4 | train_loss: 0.9909 | train_acc: 0.5563 | test_loss: 0.9088 | test_acc: 0.5432\n",
            "Epoch: 5 | train_loss: 0.9203 | train_acc: 0.5563 | test_loss: 0.9342 | test_acc: 0.4750\n",
            "Epoch: 6 | train_loss: 0.8991 | train_acc: 0.5563 | test_loss: 0.9173 | test_acc: 0.5608\n",
            "Epoch: 7 | train_loss: 0.9300 | train_acc: 0.5375 | test_loss: 0.8951 | test_acc: 0.5972\n",
            "Epoch: 8 | train_loss: 0.8542 | train_acc: 0.6521 | test_loss: 0.9003 | test_acc: 0.5273\n",
            "Epoch: 9 | train_loss: 0.8827 | train_acc: 0.6104 | test_loss: 0.9031 | test_acc: 0.5949\n",
            "Epoch: 10 | train_loss: 0.8209 | train_acc: 0.6604 | test_loss: 0.8838 | test_acc: 0.5994\n",
            "Epoch: 11 | train_loss: 0.8635 | train_acc: 0.6458 | test_loss: 0.9306 | test_acc: 0.5710\n",
            "Epoch: 12 | train_loss: 0.8063 | train_acc: 0.6604 | test_loss: 0.8978 | test_acc: 0.5744\n",
            "Epoch: 13 | train_loss: 0.8064 | train_acc: 0.6333 | test_loss: 0.9450 | test_acc: 0.5710\n",
            "Epoch: 14 | train_loss: 0.8109 | train_acc: 0.6292 | test_loss: 0.8894 | test_acc: 0.5977\n",
            "Epoch: 15 | train_loss: 0.7731 | train_acc: 0.6521 | test_loss: 0.8580 | test_acc: 0.5943\n",
            "Epoch: 16 | train_loss: 0.7459 | train_acc: 0.6667 | test_loss: 0.8653 | test_acc: 0.5932\n",
            "Epoch: 17 | train_loss: 0.8009 | train_acc: 0.6375 | test_loss: 0.8629 | test_acc: 0.6182\n",
            "Epoch: 18 | train_loss: 0.8058 | train_acc: 0.6167 | test_loss: 0.8407 | test_acc: 0.6159\n",
            "Epoch: 19 | train_loss: 0.6941 | train_acc: 0.6854 | test_loss: 0.8842 | test_acc: 0.6381\n",
            "Epoch: 20 | train_loss: 0.6359 | train_acc: 0.7333 | test_loss: 0.8571 | test_acc: 0.5835\n",
            "trained in 38.046 seconds\n"
          ]
        }
      ]
    },
    {
      "cell_type": "code",
      "source": [
        "from typing import Dict, List\n",
        "import matplotlib.pyplot as plt\n",
        "\n",
        "def plot_loss_curves(results: Dict[str, List[float]]):\n",
        "  loss = results['train_loss']\n",
        "  test_loss = results['test_loss']\n",
        "  acc = results['train_acc']\n",
        "  test_acc = results['test_acc']\n",
        "\n",
        "  epochs = range(len(loss))\n",
        "\n",
        "  plt.figure(figsize = (15, 7))\n",
        "\n",
        "  plt.subplot(1,2,1)\n",
        "  plt.plot(epochs, loss, label = 'train loss')\n",
        "  plt.plot(epochs, test_loss, label = 'test loss')\n",
        "  plt.title('loss')\n",
        "  plt.xlabel('epochs')\n",
        "  plt.legend()\n",
        "\n",
        "  plt.subplot(1, 2, 2)\n",
        "  plt.plot(epochs, acc, label='train_accuracy')\n",
        "  plt.plot(epochs, test_acc, label='test_accuracy')\n",
        "  plt.title('Accuracy')\n",
        "  plt.xlabel('Epochs')\n",
        "  plt.legend();"
      ],
      "metadata": {
        "id": "HYRR48GRf6Px"
      },
      "execution_count": 35,
      "outputs": []
    },
    {
      "cell_type": "code",
      "source": [
        "plot_loss_curves(model_0_results_20_epochs)"
      ],
      "metadata": {
        "colab": {
          "base_uri": "https://localhost:8080/",
          "height": 424
        },
        "id": "15Qa4ljthebC",
        "outputId": "ed2a6220-0e9c-42f4-b739-1cc4cbc78a68"
      },
      "execution_count": 36,
      "outputs": [
        {
          "output_type": "display_data",
          "data": {
            "text/plain": [
              "<Figure size 1500x700 with 2 Axes>"
            ],
            "image/png": "[encoded data removed]"
          },
          "metadata": {}
        }
      ]
    },
    {
      "cell_type": "code",
      "source": [
        "plot_loss_curves(model_1_results_20_epochs)"
      ],
      "metadata": {
        "colab": {
          "base_uri": "https://localhost:8080/",
          "height": 424
        },
        "id": "UwPG7Oidhhi9",
        "outputId": "5458c4a0-308e-4c94-86c9-c193b82d5491"
      },
      "execution_count": 37,
      "outputs": [
        {
          "output_type": "display_data",
          "data": {
            "text/plain": [
              "<Figure size 1500x700 with 2 Axes>"
            ],
            "image/png": "[encoded data removed]"
          },
          "metadata": {}
        }
      ]
    },
    {
      "cell_type": "code",
      "source": [
        "#models still not performing great, but looks like more complex and more epochs is improving things"
      ],
      "metadata": {
        "id": "xnhduW9vhyP5"
      },
      "execution_count": 38,
      "outputs": []
    },
    {
      "cell_type": "code",
      "source": [
        "#custom image\n",
        "cust_img_path = data_path / '04-pizza-dad.jpeg'\n",
        "\n",
        "if not cust_img_path.is_file():\n",
        "  with open(cust_img_path, 'wb') as f:\n",
        "    request = requests.get(\"https://raw.githubusercontent.com/mrdbourke/pytorch-deep-learning/main/images/04-pizza-dad.jpeg\")\n",
        "    print('downloading')\n",
        "    f.write(request.content)\n",
        "else:\n",
        "  print('already exists')"
      ],
      "metadata": {
        "colab": {
          "base_uri": "https://localhost:8080/"
        },
        "id": "oqtVrKD5iDG9",
        "outputId": "de622c3c-c0a7-4309-cccc-f7260a6746c2"
      },
      "execution_count": 40,
      "outputs": [
        {
          "output_type": "stream",
          "name": "stdout",
          "text": [
            "downloading\n"
          ]
        }
      ]
    },
    {
      "cell_type": "code",
      "source": [
        "custom_image = (torchvision.io.read_image(str(cust_img_path)).type(torch.float32) /255)"
      ],
      "metadata": {
        "id": "G93pL1Y2iaFx"
      },
      "execution_count": 43,
      "outputs": []
    },
    {
      "cell_type": "code",
      "source": [
        "custom_image_transform = transforms.Compose([\n",
        "    transforms.Resize((64, 64)),\n",
        "])\n",
        "\n",
        "custom_image = custom_image_transform(custom_image)"
      ],
      "metadata": {
        "colab": {
          "base_uri": "https://localhost:8080/"
        },
        "id": "_RVibrHUjNu7",
        "outputId": "a8976e9a-4fd1-47df-9ad8-5f8b1897b2ec"
      },
      "execution_count": 44,
      "outputs": [
        {
          "output_type": "stream",
          "name": "stderr",
          "text": [
            "/usr/local/lib/python3.10/dist-packages/torchvision/transforms/functional.py:1603: UserWarning: The default value of the antialias parameter of all the resizing transforms (Resize(), RandomResizedCrop(), etc.) will change from None to True in v0.17, in order to be consistent across the PIL and Tensor backends. To suppress this warning, directly pass antialias=True (recommended, future default), antialias=None (current default, which means False for Tensors and True for PIL), or antialias=False (only works on Tensors - PIL will still use antialiasing). This also applies if you are using the inference transforms from the models weights: update the call to weights.transforms(antialias=True).\n",
            "  warnings.warn(\n"
          ]
        }
      ]
    },
    {
      "cell_type": "code",
      "source": [
        "#prediction:\n",
        "model_1.eval()\n",
        "with torch.inference_mode():\n",
        "  pred = model_1(custom_image.unsqueeze(dim = 0).to(device))"
      ],
      "metadata": {
        "id": "VLXu7VXpit9s"
      },
      "execution_count": 59,
      "outputs": []
    },
    {
      "cell_type": "code",
      "source": [
        "print(f'pred logits: {pred}')\n",
        "pred_probs = torch.softmax(pred, dim = 1)\n",
        "print(f'pred probs: {pred_probs}')\n",
        "pred_label = torch.argmax(pred_probs, dim = 1)\n",
        "print(f'pred label: {pred_label}')"
      ],
      "metadata": {
        "colab": {
          "base_uri": "https://localhost:8080/"
        },
        "id": "HcAXEB9LjaBg",
        "outputId": "ded1249f-2ba8-48b6-e826-de5ec467574a"
      },
      "execution_count": 60,
      "outputs": [
        {
          "output_type": "stream",
          "name": "stdout",
          "text": [
            "pred logits: tensor([[-0.4458, -0.9291, -0.3119]], device='cuda:0')\n",
            "pred probs: tensor([[0.3623, 0.2235, 0.4142]], device='cuda:0')\n",
            "pred label: tensor([2], device='cuda:0')\n"
          ]
        }
      ]
    },
    {
      "cell_type": "code",
      "source": [
        "# Find the predicted label\n",
        "custom_image_pred_class = class_names[pred_label.cpu()] # put pred label to CPU, otherwise will error\n",
        "custom_image_pred_class"
      ],
      "metadata": {
        "colab": {
          "base_uri": "https://localhost:8080/",
          "height": 35
        },
        "id": "JGqW7cWbjvPM",
        "outputId": "59ad52ce-2f76-4f3f-bb0b-223e3641a8bd"
      },
      "execution_count": 61,
      "outputs": [
        {
          "output_type": "execute_result",
          "data": {
            "text/plain": [
              "'sushi'"
            ],
            "application/vnd.google.colaboratory.intrinsic+json": {
              "type": "string"
            }
          },
          "metadata": {},
          "execution_count": 61
        }
      ]
    },
    {
      "cell_type": "code",
      "source": [
        "#didn't guess correctly. will try one more complex model"
      ],
      "metadata": {
        "id": "tIBDIP1djxtA"
      },
      "execution_count": 62,
      "outputs": []
    },
    {
      "cell_type": "code",
      "source": [
        "torch.manual_seed(199)\n",
        "torch.cuda.manual_seed(199)\n",
        "model_2 = TinyVGG(3, 30, len(class_names)).to(device)\n",
        "\n",
        "optimizer_2 = torch.optim.Adam(params = model_2.parameters(), lr = 0.001)\n",
        "\n",
        "EPOCHS = 30\n",
        "\n",
        "start = timer()\n",
        "model_2_results_30_epochs = train(model_2, train_DL, test_DL, loss_fn, optimizer_2, EPOCHS)\n",
        "end = timer()\n",
        "\n",
        "print(f'train time is {end - start} seconds')"
      ],
      "metadata": {
        "colab": {
          "base_uri": "https://localhost:8080/",
          "height": 587,
          "referenced_widgets": [
            "586ae6b23f7942b1ae0debd62d913fd3",
            "55e026efc5a3411e930e7bfb9eab4b90",
            "2c03d3bf27e542a9a55f89e631a8e151",
            "d4d7fc2da61c48b69876a840aca974c5",
            "bfc3f84320f0467eb1d6f18b8348cbab",
            "155e257bf22646809b36db9a28a277fa",
            "8ba4ce8cdda4491d928608c0efbd0400",
            "9bfbb15c2e104f1b98f61087d83019cf",
            "32bcb74aa0944b5ca8628bef2850f871",
            "ff397dabb7e14a7d8291e6f67413087d",
            "f98e9c6254d5478297e3158b1e4435e5"
          ]
        },
        "id": "HgQE9kGKkOSo",
        "outputId": "fba1090b-3bcb-4155-fafb-41f03474db36"
      },
      "execution_count": 64,
      "outputs": [
        {
          "output_type": "display_data",
          "data": {
            "text/plain": [
              "  0%|          | 0/30 [00:00<?, ?it/s]"
            ],
            "application/vnd.jupyter.widget-view+json": {
              "version_major": 2,
              "version_minor": 0,
              "model_id": "586ae6b23f7942b1ae0debd62d913fd3"
            }
          },
          "metadata": {}
        },
        {
          "output_type": "stream",
          "name": "stdout",
          "text": [
            "Epoch: 1 | train_loss: 1.1075 | train_acc: 0.3729 | test_loss: 1.0989 | test_acc: 0.2875\n",
            "Epoch: 2 | train_loss: 1.0989 | train_acc: 0.3167 | test_loss: 1.0930 | test_acc: 0.4000\n",
            "Epoch: 3 | train_loss: 1.0594 | train_acc: 0.4792 | test_loss: 1.0564 | test_acc: 0.3812\n",
            "Epoch: 4 | train_loss: 1.0182 | train_acc: 0.4833 | test_loss: 0.9764 | test_acc: 0.4670\n",
            "Epoch: 5 | train_loss: 0.9421 | train_acc: 0.5146 | test_loss: 0.9122 | test_acc: 0.5920\n",
            "Epoch: 6 | train_loss: 0.8586 | train_acc: 0.5979 | test_loss: 0.9343 | test_acc: 0.5898\n",
            "Epoch: 7 | train_loss: 0.8631 | train_acc: 0.6125 | test_loss: 0.8967 | test_acc: 0.5375\n",
            "Epoch: 8 | train_loss: 0.8278 | train_acc: 0.6312 | test_loss: 0.9195 | test_acc: 0.5602\n",
            "Epoch: 9 | train_loss: 0.8152 | train_acc: 0.5958 | test_loss: 0.8871 | test_acc: 0.6114\n",
            "Epoch: 10 | train_loss: 0.8409 | train_acc: 0.6292 | test_loss: 0.8718 | test_acc: 0.5818\n",
            "Epoch: 11 | train_loss: 0.7993 | train_acc: 0.6417 | test_loss: 0.8686 | test_acc: 0.5847\n",
            "Epoch: 12 | train_loss: 0.7591 | train_acc: 0.6917 | test_loss: 0.8786 | test_acc: 0.5500\n",
            "Epoch: 13 | train_loss: 0.7218 | train_acc: 0.6917 | test_loss: 0.8606 | test_acc: 0.6222\n",
            "Epoch: 14 | train_loss: 0.6866 | train_acc: 0.7188 | test_loss: 0.9064 | test_acc: 0.5909\n",
            "Epoch: 15 | train_loss: 0.7326 | train_acc: 0.6646 | test_loss: 0.9013 | test_acc: 0.5920\n",
            "Epoch: 16 | train_loss: 0.6791 | train_acc: 0.7083 | test_loss: 1.1327 | test_acc: 0.5744\n",
            "Epoch: 17 | train_loss: 0.7584 | train_acc: 0.6646 | test_loss: 0.8319 | test_acc: 0.6227\n",
            "Epoch: 18 | train_loss: 0.6701 | train_acc: 0.7125 | test_loss: 0.8782 | test_acc: 0.5966\n",
            "Epoch: 19 | train_loss: 0.5914 | train_acc: 0.7562 | test_loss: 0.9894 | test_acc: 0.6028\n",
            "Epoch: 20 | train_loss: 0.5567 | train_acc: 0.7417 | test_loss: 0.9702 | test_acc: 0.5875\n",
            "Epoch: 21 | train_loss: 0.5016 | train_acc: 0.7937 | test_loss: 1.1259 | test_acc: 0.5636\n",
            "Epoch: 22 | train_loss: 0.5396 | train_acc: 0.7812 | test_loss: 1.0580 | test_acc: 0.5778\n",
            "Epoch: 23 | train_loss: 0.5539 | train_acc: 0.7750 | test_loss: 1.0077 | test_acc: 0.6000\n",
            "Epoch: 24 | train_loss: 0.5704 | train_acc: 0.7604 | test_loss: 1.1626 | test_acc: 0.5699\n",
            "Epoch: 25 | train_loss: 0.5788 | train_acc: 0.7229 | test_loss: 1.0120 | test_acc: 0.5875\n",
            "Epoch: 26 | train_loss: 0.5109 | train_acc: 0.7604 | test_loss: 1.0380 | test_acc: 0.5943\n",
            "Epoch: 27 | train_loss: 0.4558 | train_acc: 0.8229 | test_loss: 1.2356 | test_acc: 0.5716\n",
            "Epoch: 28 | train_loss: 0.4184 | train_acc: 0.8187 | test_loss: 1.1325 | test_acc: 0.5665\n",
            "Epoch: 29 | train_loss: 0.3659 | train_acc: 0.8479 | test_loss: 1.3154 | test_acc: 0.5500\n",
            "Epoch: 30 | train_loss: 0.3228 | train_acc: 0.8625 | test_loss: 1.3157 | test_acc: 0.5869\n",
            "train time is 58.49343801299983 seconds\n"
          ]
        }
      ]
    },
    {
      "cell_type": "code",
      "source": [
        "plot_loss_curves(model_2_results_30_epochs)"
      ],
      "metadata": {
        "colab": {
          "base_uri": "https://localhost:8080/",
          "height": 423
        },
        "id": "aaTG-4Yqlgot",
        "outputId": "667ffbda-37f4-43cc-e3d1-e7c27a491624"
      },
      "execution_count": 65,
      "outputs": [
        {
          "output_type": "display_data",
          "data": {
            "text/plain": [
              "<Figure size 1500x700 with 2 Axes>"
            ],
            "image/png": "[encoded data removed]"
          },
          "metadata": {}
        }
      ]
    },
    {
      "cell_type": "code",
      "source": [
        "'''\n",
        "now it is clear that increasing the epochs and complexity has reached a wall in terms of\n",
        "performance improvement. Other steps, such as using more training data or increasing trivial\n",
        "augmentation, will be necessary to improve performance.\n",
        "'''"
      ],
      "metadata": {
        "colab": {
          "base_uri": "https://localhost:8080/",
          "height": 70
        },
        "id": "oYw0h6Y0mlka",
        "outputId": "30763091-7bef-467d-cc6d-9926b0fb78d8"
      },
      "execution_count": 67,
      "outputs": [
        {
          "output_type": "execute_result",
          "data": {
            "text/plain": [
              "'\\nnow it is clear that increasing the epochs and complexity has reached a wall in terms of\\nperformance improvement. Other steps, such as using more training data or increasing trivial\\naugmentation, will be necessary to improve performance.\\n'"
            ],
            "application/vnd.google.colaboratory.intrinsic+json": {
              "type": "string"
            }
          },
          "metadata": {},
          "execution_count": 67
        }
      ]
    },
    {
      "cell_type": "code",
      "source": [
        "model_2.eval()\n",
        "with torch.inference_mode():\n",
        "  pred2 = model_2(custom_image.unsqueeze(dim = 0).to(device))"
      ],
      "metadata": {
        "id": "k87tYPIPm88H"
      },
      "execution_count": 69,
      "outputs": []
    },
    {
      "cell_type": "code",
      "source": [
        "print(f'pred logits: {pred2}')\n",
        "pred_probs2 = torch.softmax(pred2, dim = 1)\n",
        "print(f'pred probs: {pred_probs2}')\n",
        "pred_label2 = torch.argmax(pred_probs2, dim = 1)\n",
        "print(f'pred label: {pred_label2}')"
      ],
      "metadata": {
        "colab": {
          "base_uri": "https://localhost:8080/"
        },
        "id": "cFH3USDJnKT-",
        "outputId": "aa9a05cb-9542-4dfb-c9b7-75ebf04fa435"
      },
      "execution_count": 70,
      "outputs": [
        {
          "output_type": "stream",
          "name": "stdout",
          "text": [
            "pred logits: tensor([[ 0.4712, -3.1364, -2.0419]], device='cuda:0')\n",
            "pred probs: tensor([[0.9024, 0.0245, 0.0731]], device='cuda:0')\n",
            "pred label: tensor([0], device='cuda:0')\n"
          ]
        }
      ]
    },
    {
      "cell_type": "code",
      "source": [
        "# Find the predicted label\n",
        "custom_image_pred_class2 = class_names[pred_label2.cpu()] # put pred label to CPU, otherwise will error\n",
        "custom_image_pred_class2"
      ],
      "metadata": {
        "colab": {
          "base_uri": "https://localhost:8080/",
          "height": 35
        },
        "id": "qDrSyi5HnU1s",
        "outputId": "a4d6edb6-9663-455c-852d-3cdbe00a8a74"
      },
      "execution_count": 71,
      "outputs": [
        {
          "output_type": "execute_result",
          "data": {
            "text/plain": [
              "'pizza'"
            ],
            "application/vnd.google.colaboratory.intrinsic+json": {
              "type": "string"
            }
          },
          "metadata": {},
          "execution_count": 71
        }
      ]
    },
    {
      "cell_type": "code",
      "source": [
        "#correct prediction!"
      ],
      "metadata": {
        "id": "AhUeorMenYwR"
      },
      "execution_count": 72,
      "outputs": []
    },
    {
      "cell_type": "code",
      "source": [],
      "metadata": {
        "id": "f9_lkV8YnbPb"
      },
      "execution_count": null,
      "outputs": []
    }
  ]
}